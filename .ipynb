{
 "cells": [
  {
   "cell_type": "code",
   "execution_count": 714,
   "metadata": {},
   "outputs": [
    {
     "name": "stdout",
     "output_type": "stream",
     "text": [
      "   Case ID  Event ID  dd-MM-yyyy:HH.mm            Activity Resource  Costs\n",
      "0        1  35654423  30-12-2010:11.02    register request     Pete     50\n",
      "1        1  35654424  31-12-2010:10.06  examine thoroughly      Sue    400\n",
      "2        1  35654425  05-01-2011:15.12        check ticket     Mike    100\n",
      "3        1  35654426  06-01-2011:11.18              decide     Sara    200\n",
      "4        1  35654427  07-01-2011:14.24      reject request     Pete    200\n"
     ]
    }
   ],
   "source": [
    "import os\n",
    "from pm4py.objects.log.importer.xes import factory as xes_importer\n",
    "import pandas as pd\n",
    "\n",
    "log = pd.read_csv(r\"C:\\Users\\Lenovo\\Desktop\\Magisterka\\AlphaMiner\\Chapter_1\\running-examplee.csv\")\n",
    "data = log.drop([\"Event ID\", \"dd-MM-yyyy:HH.mm\", \"Resource\", \"Costs\"], axis = 1)\n",
    "print(log.head())"
   ]
  },
  {
   "cell_type": "markdown",
   "metadata": {},
   "source": [
    "1) Zbiór wszystkich tasków"
   ]
  },
  {
   "cell_type": "code",
   "execution_count": 715,
   "metadata": {},
   "outputs": [
    {
     "name": "stdout",
     "output_type": "stream",
     "text": [
      "['register request' 'examine thoroughly' 'check ticket' 'decide'\n",
      " 'reject request' 'examine casually' 'pay compensation'\n",
      " 'reinitiate request']\n"
     ]
    }
   ],
   "source": [
    "column_values = data[[\"Activity\"]].values.ravel()\n",
    "tasks =  pd.unique(column_values)\n",
    "print(tasks)"
   ]
  },
  {
   "cell_type": "code",
   "execution_count": 716,
   "metadata": {},
   "outputs": [
    {
     "name": "stdout",
     "output_type": "stream",
     "text": [
      "{'register request': 0, 'examine thoroughly': 1, 'check ticket': 2, 'decide': 3, 'reject request': 4, 'examine casually': 5, 'pay compensation': 6, 'reinitiate request': 7}\n"
     ]
    }
   ],
   "source": [
    "dict = {}\n",
    "i = 0\n",
    "\n",
    "for k in tasks:\n",
    "    dict[k] = i\n",
    "    i = i + 1\n",
    "    \n",
    "print(dict)"
   ]
  },
  {
   "cell_type": "markdown",
   "metadata": {},
   "source": [
    "log_tab jest tablica tasks in specific case"
   ]
  },
  {
   "cell_type": "code",
   "execution_count": 718,
   "metadata": {},
   "outputs": [
    {
     "name": "stdout",
     "output_type": "stream",
     "text": [
      "[array([0, 1, 2, 3, 4]), array([0, 2, 5, 3, 6]), array([0, 5, 2, 3, 7, 1, 2, 3, 6]), array([0, 2, 1, 3, 4]), array([0, 5, 2, 3, 7, 2, 5, 3, 7, 5, 2, 3, 4]), array([0, 5, 2, 3, 6])]\n"
     ]
    }
   ],
   "source": [
    "import numpy as np\n",
    "data = data.to_numpy()\n",
    "elem = data[0][0]\n",
    "log_tab = []\n",
    "log2_tab = []\n",
    "\n",
    "for i in range(len(data)):\n",
    "    if (data[i][0] != elem or i == (len(data)-1)): \n",
    "        if(i == (len(data)-1)):\n",
    "            log2_tab.append(dict[data[i][1]])\n",
    "        log2_tab = np.asarray(log2_tab)\n",
    "        log_tab.append(log2_tab)\n",
    "        log2_tab = []\n",
    "        elem = data[i][0]\n",
    "    log2_tab.append(dict[data[i][1]])\n",
    "    \n",
    "print(log_tab)"
   ]
  },
  {
   "cell_type": "code",
   "execution_count": 719,
   "metadata": {},
   "outputs": [],
   "source": [
    "#log_tab = [[0, 1, 6, 7, 9, 10, 8, 11],[0, 2, 3, 4, 5, 6, 9, 7, 8, 10, 11]]\n",
    "#print(log_tab)"
   ]
  },
  {
   "cell_type": "markdown",
   "metadata": {},
   "source": [
    "2) Zbiór tasków wejściowych"
   ]
  },
  {
   "cell_type": "code",
   "execution_count": 720,
   "metadata": {},
   "outputs": [
    {
     "name": "stdout",
     "output_type": "stream",
     "text": [
      "[0]\n"
     ]
    }
   ],
   "source": [
    "Tinput = []\n",
    "\n",
    "for i in range(len(log_tab)):\n",
    "    if log_tab[i][0] not in Tinput:\n",
    "        Tinput.append(log_tab[i][0])\n",
    "        \n",
    "print(Tinput)"
   ]
  },
  {
   "cell_type": "markdown",
   "metadata": {},
   "source": [
    "3) Zbiór tasków wyjściowych"
   ]
  },
  {
   "cell_type": "code",
   "execution_count": 721,
   "metadata": {},
   "outputs": [
    {
     "name": "stdout",
     "output_type": "stream",
     "text": [
      "[4, 6]\n"
     ]
    }
   ],
   "source": [
    "Toutput = []\n",
    "\n",
    "for i in range(len(log_tab)):\n",
    "    if log_tab[i][len(log_tab[i])-1] not in Toutput:\n",
    "        Toutput.append(log_tab[i][len(log_tab[i])-1])\n",
    "        \n",
    "print(Toutput)"
   ]
  },
  {
   "cell_type": "markdown",
   "metadata": {},
   "source": [
    "4 a) Set of potencial task connections a->b"
   ]
  },
  {
   "cell_type": "code",
   "execution_count": 722,
   "metadata": {},
   "outputs": [
    {
     "name": "stdout",
     "output_type": "stream",
     "text": [
      "[(0, 1), (1, 2), (2, 3), (3, 4), (0, 2), (2, 5), (5, 3), (3, 6), (0, 5), (5, 2), (3, 7), (7, 1), (2, 1), (1, 3), (7, 2), (7, 5)]\n"
     ]
    }
   ],
   "source": [
    "tuple_tab = []\n",
    "i = -1\n",
    "\n",
    "for row in log_tab:\n",
    "    i = i + 1\n",
    "    for j in range(len(row)-1):\n",
    "        tupl = (log_tab[i][j], log_tab[i][j+1])\n",
    "        if tupl not in tuple_tab:\n",
    "            tuple_tab.append(tupl)\n",
    "\n",
    "print(tuple_tab)"
   ]
  },
  {
   "cell_type": "markdown",
   "metadata": {},
   "source": [
    "Set of potencial task connections b->a"
   ]
  },
  {
   "cell_type": "code",
   "execution_count": 723,
   "metadata": {},
   "outputs": [
    {
     "name": "stdout",
     "output_type": "stream",
     "text": [
      "[(4, 3), (3, 2), (2, 1), (1, 0), (6, 3), (3, 5), (5, 2), (2, 0), (1, 7), (7, 3), (2, 5), (5, 0), (3, 1), (1, 2), (5, 7), (2, 7)]\n"
     ]
    }
   ],
   "source": [
    "tuple_tab2 = []\n",
    "i = -1\n",
    "\n",
    "for row in log_tab:\n",
    "    i = i + 1\n",
    "    for j in range(len(row)-1):\n",
    "        tupl = (log_tab[i][len(row)-1-j], log_tab[i][len(row)-2-j])\n",
    "        if tupl not in tuple_tab2:\n",
    "            tuple_tab2.append(tupl)\n",
    "\n",
    "print(tuple_tab2)"
   ]
  },
  {
   "cell_type": "markdown",
   "metadata": {},
   "source": [
    "Creating footprint:\n",
    "    #  = 0\n",
    "    -> = 1\n",
    "    <- = 2\n",
    "    || = 3"
   ]
  },
  {
   "cell_type": "code",
   "execution_count": 724,
   "metadata": {},
   "outputs": [
    {
     "name": "stdout",
     "output_type": "stream",
     "text": [
      "[[0. 1. 1. 0. 0. 1. 0. 0.]\n",
      " [2. 0. 3. 1. 0. 0. 0. 2.]\n",
      " [2. 3. 0. 1. 0. 3. 0. 2.]\n",
      " [0. 2. 2. 0. 1. 2. 1. 1.]\n",
      " [0. 0. 0. 2. 0. 0. 0. 0.]\n",
      " [2. 0. 3. 1. 0. 0. 0. 2.]\n",
      " [0. 0. 0. 2. 0. 0. 0. 0.]\n",
      " [0. 1. 1. 2. 0. 1. 0. 0.]]\n"
     ]
    }
   ],
   "source": [
    "footprint = np.zeros((len(tasks), len(tasks)))\n",
    "#footprint = np.zeros((12, 12))\n",
    "\n",
    "for i in tuple_tab:\n",
    "    x = i[0]\n",
    "    y = i[1]\n",
    "    footprint[x][y] = 1\n",
    "\n",
    "for i in tuple_tab2:\n",
    "    x = i[0]\n",
    "    y = i[1]\n",
    "    footprint[x][y] = footprint[x][y] + 2\n",
    "\n",
    "print(footprint)"
   ]
  },
  {
   "cell_type": "markdown",
   "metadata": {},
   "source": [
    "4 b) Finding all triples for which a->(b#c)"
   ]
  },
  {
   "cell_type": "code",
   "execution_count": 725,
   "metadata": {},
   "outputs": [
    {
     "name": "stdout",
     "output_type": "stream",
     "text": [
      "[array([1, 2, 5, 0]), array([4, 6, 7, 3]), array([1, 2, 5, 7])]\n"
     ]
    }
   ],
   "source": [
    "tuple_list = []\n",
    "\n",
    "for i in range(len(footprint)):\n",
    "    tab_tmp = []\n",
    "    for j in range(len(footprint)):\n",
    "        if(footprint[i][j] == 1):\n",
    "            tab_tmp.append(j)\n",
    "    if(len(tab_tmp) > 1):\n",
    "        tab_tmp.append(i)\n",
    "        tab_tmp = np.asarray(tab_tmp)\n",
    "        tuple_list.append(tab_tmp)\n",
    "       \n",
    "print(tuple_list)     # last element is a number of row, it should be actually e.g. ([1,2,5], 0)    "
   ]
  },
  {
   "cell_type": "code",
   "execution_count": 726,
   "metadata": {},
   "outputs": [
    {
     "name": "stdout",
     "output_type": "stream",
     "text": [
      "[[0, 1, 5], [3, 4, 6], [3, 4, 7], [3, 6, 7], [7, 1, 5]]\n"
     ]
    }
   ],
   "source": [
    "final_triples = []\n",
    "\n",
    "for i in range(len(tuple_list)):\n",
    "    for j in range(len(tuple_list[i])-2):\n",
    "        for k in range(j+1,len(tuple_list[i])-1):\n",
    "            x = tuple_list[i][j]\n",
    "            y = tuple_list[i][k]\n",
    "            final_triples_row = []\n",
    "            if(footprint[x][y] == 0):\n",
    "                final_triples_row.append(tuple_list[i][len(tuple_list[i])-1])\n",
    "                final_triples_row.append(x)\n",
    "                final_triples_row.append(y)\n",
    "                if final_triples_row not in final_triples:\n",
    "                    final_triples.append(final_triples_row)\n",
    "                    \n",
    "print(final_triples)     # final_triples is a set of all triples for which a->(b#c), where [a,b,c]"
   ]
  },
  {
   "cell_type": "markdown",
   "metadata": {},
   "source": [
    "4 c) Finding all triples for which (b#c)->d"
   ]
  },
  {
   "cell_type": "code",
   "execution_count": 727,
   "metadata": {},
   "outputs": [
    {
     "name": "stdout",
     "output_type": "stream",
     "text": [
      "[array([0, 7, 1]), array([0, 7, 2]), array([1, 2, 5, 3]), array([0, 7, 5])]\n"
     ]
    }
   ],
   "source": [
    "tuple_list2 = []\n",
    "\n",
    "for i in range(len(footprint)):\n",
    "    tab_tmp2 = []\n",
    "    for j in range(len(footprint)):\n",
    "        if(footprint[j][i] == 1):\n",
    "            tab_tmp2.append(j)\n",
    "    if(len(tab_tmp2) > 1):\n",
    "        tab_tmp2.append(i)\n",
    "        tab_tmp2 = np.asarray(tab_tmp2)\n",
    "        tuple_list2.append(tab_tmp2)\n",
    "       \n",
    "print(tuple_list2)     # last element is a number of row, it should be actually e.g. ([0,7], 1)    "
   ]
  },
  {
   "cell_type": "code",
   "execution_count": 728,
   "metadata": {},
   "outputs": [
    {
     "name": "stdout",
     "output_type": "stream",
     "text": [
      "[[0, 7, 1], [0, 7, 2], [1, 5, 3], [0, 7, 5]]\n"
     ]
    }
   ],
   "source": [
    "final_triples2 = []\n",
    "\n",
    "for i in range(len(tuple_list2)):\n",
    "    for j in range(len(tuple_list2[i])-2):\n",
    "        for k in range(j+1,len(tuple_list2[i])-1):\n",
    "            x = tuple_list2[i][j]\n",
    "            y = tuple_list2[i][k]\n",
    "            final_triples_row = []\n",
    "            if(footprint[x][y] == 0):             \n",
    "                final_triples_row.append(x)\n",
    "                final_triples_row.append(y)\n",
    "                final_triples_row.append(tuple_list2[i][len(tuple_list2[i])-1])\n",
    "                if final_triples_row not in final_triples2:\n",
    "                    final_triples2.append(final_triples_row)\n",
    "\n",
    "print(final_triples2)     # final_triples2 is a set of all triples for which (b#c)->d, where [b,c,d]"
   ]
  },
  {
   "cell_type": "markdown",
   "metadata": {},
   "source": [
    "5) Eliminating doubled tuples\n",
    "a) eliminating a->b, a->c if there exists some a->(b#c)"
   ]
  },
  {
   "cell_type": "code",
   "execution_count": 729,
   "metadata": {},
   "outputs": [
    {
     "name": "stdout",
     "output_type": "stream",
     "text": [
      "[(1, 2), (2, 3), (0, 2), (2, 5), (5, 3), (5, 2), (2, 1), (1, 3), (7, 2)]\n"
     ]
    }
   ],
   "source": [
    "for i in range(len(final_triples)):\n",
    "    tupl = (final_triples[i][0], final_triples[i][1])\n",
    "    tupl2 = (final_triples[i][0], final_triples[i][2])\n",
    "    if tupl in tuple_tab:\n",
    "        tuple_tab.remove(tupl)\n",
    "    if tupl2 in tuple_tab:\n",
    "        tuple_tab.remove(tupl2)  \n",
    "\n",
    "print(tuple_tab)"
   ]
  },
  {
   "cell_type": "markdown",
   "metadata": {},
   "source": [
    "b) eliminating b->d, c->d if there exists some (b#c)->d"
   ]
  },
  {
   "cell_type": "code",
   "execution_count": 730,
   "metadata": {},
   "outputs": [
    {
     "name": "stdout",
     "output_type": "stream",
     "text": [
      "[(1, 2), (2, 3), (2, 5), (5, 2), (2, 1)]\n"
     ]
    }
   ],
   "source": [
    "for i in range(len(final_triples2)):\n",
    "    tupl = (final_triples2[i][0], final_triples2[i][2])\n",
    "    tupl2 = (final_triples2[i][1], final_triples2[i][2])\n",
    "    if tupl in tuple_tab:\n",
    "        tuple_tab.remove(tupl)\n",
    "    if tupl2 in tuple_tab:\n",
    "        tuple_tab.remove(tupl2)  \n",
    "\n",
    "print(tuple_tab)"
   ]
  },
  {
   "cell_type": "markdown",
   "metadata": {},
   "source": [
    "* eliminating connections cosed by ||"
   ]
  },
  {
   "cell_type": "code",
   "execution_count": 731,
   "metadata": {},
   "outputs": [],
   "source": [
    "for i in range(len(footprint)):\n",
    "    for j in range(len(footprint)):\n",
    "        if(footprint[i][j] == 3):\n",
    "            tuple_tab.remove((i, j))\n"
   ]
  },
  {
   "cell_type": "markdown",
   "metadata": {},
   "source": [
    "Final set of a->b connections (tuple_tab)"
   ]
  },
  {
   "cell_type": "code",
   "execution_count": 732,
   "metadata": {},
   "outputs": [
    {
     "name": "stdout",
     "output_type": "stream",
     "text": [
      "[(2, 3)]\n"
     ]
    }
   ],
   "source": [
    "print(tuple_tab)"
   ]
  },
  {
   "cell_type": "markdown",
   "metadata": {},
   "source": [
    "Final set of a->(b#c) connections (final_triples)"
   ]
  },
  {
   "cell_type": "code",
   "execution_count": 733,
   "metadata": {},
   "outputs": [
    {
     "name": "stdout",
     "output_type": "stream",
     "text": [
      "[[0, 1, 5], [3, 4, 6], [3, 4, 7], [3, 6, 7], [7, 1, 5]]\n"
     ]
    }
   ],
   "source": [
    "print(final_triples) "
   ]
  },
  {
   "cell_type": "markdown",
   "metadata": {},
   "source": [
    "Final set of (b#c)->d connections (final_triples2)"
   ]
  },
  {
   "cell_type": "code",
   "execution_count": 735,
   "metadata": {},
   "outputs": [
    {
     "name": "stdout",
     "output_type": "stream",
     "text": [
      "[[0, 7, 1], [0, 7, 2], [1, 5, 3], [0, 7, 5]]\n"
     ]
    }
   ],
   "source": [
    "print(final_triples2) "
   ]
  },
  {
   "cell_type": "code",
   "execution_count": 743,
   "metadata": {},
   "outputs": [],
   "source": [
    "import bpmn_python.bpmn_diagram_rep as diagram"
   ]
  },
  {
   "cell_type": "code",
   "execution_count": 744,
   "metadata": {},
   "outputs": [
    {
     "ename": "AttributeError",
     "evalue": "module 'bpmn_python.bpmn_diagram_rep' has no attribute 'BPMNDiagramGraph'",
     "output_type": "error",
     "traceback": [
      "\u001b[1;31m---------------------------------------------------------------------------\u001b[0m",
      "\u001b[1;31mAttributeError\u001b[0m                            Traceback (most recent call last)",
      "\u001b[1;32m<ipython-input-744-92ffd08c8027>\u001b[0m in \u001b[0;36m<module>\u001b[1;34m\u001b[0m\n\u001b[1;32m----> 1\u001b[1;33m \u001b[0mbpmn_graph\u001b[0m \u001b[1;33m=\u001b[0m \u001b[0mdiagram\u001b[0m\u001b[1;33m.\u001b[0m\u001b[0mBPMNDiagramGraph\u001b[0m\u001b[1;33m(\u001b[0m\u001b[1;33m)\u001b[0m\u001b[1;33m\u001b[0m\u001b[1;33m\u001b[0m\u001b[0m\n\u001b[0m\u001b[0;32m      2\u001b[0m \u001b[0mbpmn_graph\u001b[0m\u001b[1;33m.\u001b[0m\u001b[0mcreate_new_diagram_graph\u001b[0m\u001b[1;33m(\u001b[0m\u001b[0mdiagram_name\u001b[0m\u001b[1;33m=\u001b[0m\u001b[1;34m\"diagram1\"\u001b[0m\u001b[1;33m)\u001b[0m\u001b[1;33m\u001b[0m\u001b[1;33m\u001b[0m\u001b[0m\n",
      "\u001b[1;31mAttributeError\u001b[0m: module 'bpmn_python.bpmn_diagram_rep' has no attribute 'BPMNDiagramGraph'"
     ]
    }
   ],
   "source": [
    "bpmn_graph = diagram.BPMNDiagramGraph()\n",
    "bpmn_graph.create_new_diagram_graph(diagram_name=\"diagram1\")"
   ]
  },
  {
   "cell_type": "code",
   "execution_count": null,
   "metadata": {},
   "outputs": [],
   "source": []
  }
 ],
 "metadata": {
  "kernelspec": {
   "display_name": "Python 3",
   "language": "python",
   "name": "python3"
  },
  "language_info": {
   "codemirror_mode": {
    "name": "ipython",
    "version": 3
   },
   "file_extension": ".py",
   "mimetype": "text/x-python",
   "name": "python",
   "nbconvert_exporter": "python",
   "pygments_lexer": "ipython3",
   "version": "3.7.6"
  }
 },
 "nbformat": 4,
 "nbformat_minor": 4
}
