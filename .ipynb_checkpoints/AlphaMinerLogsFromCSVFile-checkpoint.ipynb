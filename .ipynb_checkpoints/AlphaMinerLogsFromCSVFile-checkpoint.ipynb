{
 "cells": [
  {
   "cell_type": "code",
   "execution_count": 956,
   "metadata": {
    "scrolled": true
   },
   "outputs": [
    {
     "name": "stdout",
     "output_type": "stream",
     "text": [
      "   Case ID  Event ID  dd-MM-yyyy:HH.mm            Activity Resource  Costs\n",
      "0        1  35654423  30-12-2010:11.02    register request     Pete     50\n",
      "1        1  35654424  31-12-2010:10.06  examine thoroughly      Sue    400\n",
      "2        1  35654425  05-01-2011:15.12        check ticket     Mike    100\n",
      "3        1  35654426  06-01-2011:11.18              decide     Sara    200\n",
      "4        1  35654427  07-01-2011:14.24      reject request     Pete    200\n"
     ]
    }
   ],
   "source": [
    "import os\n",
    "from pm4py.objects.log.importer.xes import factory as xes_importer\n",
    "import pandas as pd\n",
    "\n",
    "log = pd.read_csv(r\"C:\\Users\\Lenovo\\Desktop\\Magisterka\\AlphaMiner\\Chapter_1\\example2.csv\")\n",
    "data = log.drop([\"Event ID\", \"dd-MM-yyyy:HH.mm\", \"Resource\", \"Costs\"], axis = 1)\n",
    "print(log.head())"
   ]
  },
  {
   "cell_type": "markdown",
   "metadata": {},
   "source": [
    "1) Set of all tasks"
   ]
  },
  {
   "cell_type": "code",
   "execution_count": 957,
   "metadata": {},
   "outputs": [
    {
     "name": "stdout",
     "output_type": "stream",
     "text": [
      "['register request' 'examine thoroughly' 'check ticket' 'decide'\n",
      " 'reject request']\n"
     ]
    }
   ],
   "source": [
    "column_values = data[[\"Activity\"]].values.ravel()\n",
    "tasks =  pd.unique(column_values)\n",
    "print(tasks)"
   ]
  },
  {
   "cell_type": "markdown",
   "metadata": {},
   "source": [
    "* dictionary"
   ]
  },
  {
   "cell_type": "code",
   "execution_count": 958,
   "metadata": {},
   "outputs": [
    {
     "name": "stdout",
     "output_type": "stream",
     "text": [
      "{'register request': 0, 'examine thoroughly': 1, 'check ticket': 2, 'decide': 3, 'reject request': 4}\n"
     ]
    }
   ],
   "source": [
    "dict = {}\n",
    "i = 0\n",
    "\n",
    "for k in tasks:\n",
    "    dict[k] = i\n",
    "    i = i + 1\n",
    "    \n",
    "max_task = i-1\n",
    "print(dict)"
   ]
  },
  {
   "cell_type": "markdown",
   "metadata": {},
   "source": [
    "* matrix of tasks"
   ]
  },
  {
   "cell_type": "code",
   "execution_count": 959,
   "metadata": {},
   "outputs": [
    {
     "name": "stdout",
     "output_type": "stream",
     "text": [
      "[array([0, 1, 2, 3, 4]), array([0, 2, 1, 3, 4])]\n"
     ]
    }
   ],
   "source": [
    "import numpy as np\n",
    "data = data.to_numpy()\n",
    "elem = data[0][0]\n",
    "log_tab = []\n",
    "log2_tab = []\n",
    "\n",
    "for i in range(len(data)):\n",
    "    if (data[i][0] != elem or i == (len(data)-1)): \n",
    "        if(i == (len(data)-1)):\n",
    "            log2_tab.append(dict[data[i][1]])\n",
    "        log2_tab = np.asarray(log2_tab)\n",
    "        log_tab.append(log2_tab)\n",
    "        log2_tab = []\n",
    "        elem = data[i][0]\n",
    "    log2_tab.append(dict[data[i][1]])\n",
    "    \n",
    "print(log_tab)"
   ]
  },
  {
   "cell_type": "markdown",
   "metadata": {},
   "source": [
    "2) Set of input tasks"
   ]
  },
  {
   "cell_type": "code",
   "execution_count": 960,
   "metadata": {},
   "outputs": [
    {
     "name": "stdout",
     "output_type": "stream",
     "text": [
      "[0]\n"
     ]
    }
   ],
   "source": [
    "Tinput = []\n",
    "\n",
    "for i in range(len(log_tab)):\n",
    "    if log_tab[i][0] not in Tinput:\n",
    "        Tinput.append(log_tab[i][0])\n",
    "        \n",
    "print(Tinput)"
   ]
  },
  {
   "cell_type": "markdown",
   "metadata": {},
   "source": [
    "3) Set of output tasks"
   ]
  },
  {
   "cell_type": "code",
   "execution_count": 961,
   "metadata": {},
   "outputs": [
    {
     "name": "stdout",
     "output_type": "stream",
     "text": [
      "[4]\n"
     ]
    }
   ],
   "source": [
    "Toutput = []\n",
    "\n",
    "for i in range(len(log_tab)):\n",
    "    if log_tab[i][len(log_tab[i])-1] not in Toutput:\n",
    "        Toutput.append(log_tab[i][len(log_tab[i])-1])\n",
    "        \n",
    "print(Toutput)"
   ]
  },
  {
   "cell_type": "markdown",
   "metadata": {},
   "source": [
    "4 a) Set of potencial task connections a->b"
   ]
  },
  {
   "cell_type": "code",
   "execution_count": 962,
   "metadata": {},
   "outputs": [
    {
     "name": "stdout",
     "output_type": "stream",
     "text": [
      "[(0, 1), (1, 2), (2, 3), (3, 4), (0, 2), (2, 1), (1, 3)]\n"
     ]
    }
   ],
   "source": [
    "patternA_list = []\n",
    "i = -1\n",
    "\n",
    "for row in log_tab:\n",
    "    i = i + 1\n",
    "    for j in range(len(row)-1):\n",
    "        tupl = (log_tab[i][j], log_tab[i][j+1])\n",
    "        if tupl not in patternA_list:\n",
    "            patternA_list.append(tupl)\n",
    "\n",
    "print(patternA_list)"
   ]
  },
  {
   "cell_type": "markdown",
   "metadata": {},
   "source": [
    "* Set of potencial task connections b->a"
   ]
  },
  {
   "cell_type": "code",
   "execution_count": 963,
   "metadata": {},
   "outputs": [
    {
     "name": "stdout",
     "output_type": "stream",
     "text": [
      "[(4, 3), (3, 2), (2, 1), (1, 0), (3, 1), (1, 2), (2, 0)]\n"
     ]
    }
   ],
   "source": [
    "reverse_patternA_list = []\n",
    "i = -1\n",
    "\n",
    "for row in log_tab:\n",
    "    i = i + 1\n",
    "    for j in range(len(row)-1):\n",
    "        tupl = (log_tab[i][len(row)-1-j], log_tab[i][len(row)-2-j])\n",
    "        if tupl not in reverse_patternA_list:\n",
    "            reverse_patternA_list.append(tupl)\n",
    "\n",
    "print(reverse_patternA_list)"
   ]
  },
  {
   "cell_type": "markdown",
   "metadata": {},
   "source": [
    "Creating footprint:\n",
    "    #  = 0\n",
    "    -> = 1\n",
    "    <- = 2\n",
    "    || = 3"
   ]
  },
  {
   "cell_type": "code",
   "execution_count": 964,
   "metadata": {},
   "outputs": [
    {
     "name": "stdout",
     "output_type": "stream",
     "text": [
      "[[0. 1. 1. 0. 0.]\n",
      " [2. 0. 3. 1. 0.]\n",
      " [2. 3. 0. 1. 0.]\n",
      " [0. 2. 2. 0. 1.]\n",
      " [0. 0. 0. 2. 0.]]\n"
     ]
    }
   ],
   "source": [
    "footprint = np.zeros((max_task+1, max_task+1))\n",
    "\n",
    "for i in patternA_list:\n",
    "    x = i[0]\n",
    "    y = i[1]\n",
    "    footprint[x][y] = 1\n",
    "\n",
    "for i in reverse_patternA_list:\n",
    "    x = i[0]\n",
    "    y = i[1]\n",
    "    footprint[x][y] = footprint[x][y] + 2\n",
    "\n",
    "print(footprint)"
   ]
  },
  {
   "cell_type": "markdown",
   "metadata": {},
   "source": [
    "4 b) Finding all triples for which a->(b#c)"
   ]
  },
  {
   "cell_type": "markdown",
   "metadata": {},
   "source": [
    "* potencial triples of pattern B"
   ]
  },
  {
   "cell_type": "code",
   "execution_count": 965,
   "metadata": {},
   "outputs": [
    {
     "name": "stdout",
     "output_type": "stream",
     "text": [
      "[array([1, 2, 0])]\n"
     ]
    }
   ],
   "source": [
    "patternB_list = []\n",
    "\n",
    "for i in range(len(footprint)):\n",
    "    tab_tmp = []\n",
    "    for j in range(len(footprint)):\n",
    "        if(footprint[i][j] == 1):\n",
    "            tab_tmp.append(j)\n",
    "    if(len(tab_tmp) > 1):\n",
    "        tab_tmp.append(i)\n",
    "        tab_tmp = np.asarray(tab_tmp)\n",
    "        patternB_list.append(tab_tmp)\n",
    "       \n",
    "print(patternB_list)     # last element is a number of row, it should be actually e.g. ([1,2,5], 0)    "
   ]
  },
  {
   "cell_type": "markdown",
   "metadata": {},
   "source": [
    "* appropriate triples of pattern B"
   ]
  },
  {
   "cell_type": "code",
   "execution_count": 966,
   "metadata": {},
   "outputs": [
    {
     "name": "stdout",
     "output_type": "stream",
     "text": [
      "[]\n"
     ]
    }
   ],
   "source": [
    "final_patternB_list = []\n",
    "\n",
    "for i in range(len(patternB_list)):\n",
    "    for j in range(len(patternB_list[i])-2):\n",
    "        for k in range(j+1,len(patternB_list[i])-1):\n",
    "            x = patternB_list[i][j]\n",
    "            y = patternB_list[i][k]\n",
    "            final_triples_row = []\n",
    "            if(footprint[x][y] == 0):\n",
    "                final_triples_row.append(patternB_list[i][len(patternB_list[i])-1])\n",
    "                final_triples_row.append(x)\n",
    "                final_triples_row.append(y)\n",
    "                if final_triples_row not in final_patternB_list:\n",
    "                    final_patternB_list.append(final_triples_row)\n",
    "                    \n",
    "print(final_patternB_list)     # final_patternB_list is a set of all triples for which a->(b#c), where [a,b,c]"
   ]
  },
  {
   "cell_type": "code",
   "execution_count": 967,
   "metadata": {},
   "outputs": [
    {
     "name": "stdout",
     "output_type": "stream",
     "text": [
      "[]\n"
     ]
    }
   ],
   "source": [
    "special_tab = []\n",
    "i = 0\n",
    "\n",
    "for elem in final_patternB_list[:-1]:\n",
    "    i = i + 1\n",
    "    for elem2 in final_patternB_list[i:]:\n",
    "        if(elem[0] == elem2[0]):\n",
    "            if elem not in special_tab:\n",
    "                special_tab.append(elem)\n",
    "            if elem2 not in special_tab:\n",
    "                special_tab.append(elem2)\n",
    "            \n",
    "print(special_tab)"
   ]
  },
  {
   "cell_type": "markdown",
   "metadata": {},
   "source": [
    "4 c) Finding all triples for which (b#c)->d"
   ]
  },
  {
   "cell_type": "markdown",
   "metadata": {},
   "source": [
    "* potencial triples of pattern C"
   ]
  },
  {
   "cell_type": "code",
   "execution_count": 968,
   "metadata": {},
   "outputs": [
    {
     "name": "stdout",
     "output_type": "stream",
     "text": [
      "[array([1, 2, 3])]\n"
     ]
    }
   ],
   "source": [
    "patternC_list = []\n",
    "\n",
    "for i in range(len(footprint)):\n",
    "    tab_tmp2 = []\n",
    "    for j in range(len(footprint)):\n",
    "        if(footprint[j][i] == 1):\n",
    "            tab_tmp2.append(j)\n",
    "    if(len(tab_tmp2) > 1):\n",
    "        tab_tmp2.append(i)\n",
    "        tab_tmp2 = np.asarray(tab_tmp2)\n",
    "        patternC_list.append(tab_tmp2)\n",
    "       \n",
    "print(patternC_list)     # last element is a number of row, it should be actually e.g. ([0,7], 1)    "
   ]
  },
  {
   "cell_type": "markdown",
   "metadata": {},
   "source": [
    "* appropriate triples of pattern C"
   ]
  },
  {
   "cell_type": "code",
   "execution_count": 969,
   "metadata": {},
   "outputs": [
    {
     "name": "stdout",
     "output_type": "stream",
     "text": [
      "[]\n"
     ]
    }
   ],
   "source": [
    "final_patternC_list = []\n",
    "\n",
    "for i in range(len(patternC_list)):\n",
    "    for j in range(len(patternC_list[i])-2):\n",
    "        for k in range(j+1,len(patternC_list[i])-1):\n",
    "            x = patternC_list[i][j]\n",
    "            y = patternC_list[i][k]\n",
    "            final_triples_row = []\n",
    "            if(footprint[x][y] == 0):             \n",
    "                final_triples_row.append(x)\n",
    "                final_triples_row.append(y)\n",
    "                final_triples_row.append(patternC_list[i][len(patternC_list[i])-1])\n",
    "                if final_triples_row not in final_patternC_list:\n",
    "                    final_patternC_list.append(final_triples_row)\n",
    "\n",
    "print(final_patternC_list)     # final_patternC_list is a set of all triples for which (b#c)->d, where [b,c,d]"
   ]
  },
  {
   "cell_type": "code",
   "execution_count": 970,
   "metadata": {},
   "outputs": [
    {
     "name": "stdout",
     "output_type": "stream",
     "text": [
      "[]\n"
     ]
    }
   ],
   "source": [
    "i = 0\n",
    "for elem in final_patternC_list[:-1]:\n",
    "    i = i + 1\n",
    "    for elem2 in final_patternC_list[i:]:\n",
    "            if(elem[2] == elem2[2]):\n",
    "                #print(elem[2], elem2[2])\n",
    "                print(\"ok\")\n",
    "                if elem not in special_tab:\n",
    "                    special_tab.append(elem)\n",
    "                if elem2 not in special_tab:\n",
    "                    special_tab.append(elem2)\n",
    "            \n",
    "print(special_tab)"
   ]
  },
  {
   "cell_type": "markdown",
   "metadata": {},
   "source": [
    "5) Eliminating doubled tuples"
   ]
  },
  {
   "cell_type": "markdown",
   "metadata": {},
   "source": [
    "a) eliminating a->b, a->c if there exists some a->(b#c)"
   ]
  },
  {
   "cell_type": "code",
   "execution_count": 971,
   "metadata": {},
   "outputs": [
    {
     "name": "stdout",
     "output_type": "stream",
     "text": [
      "[(0, 1), (1, 2), (2, 3), (3, 4), (0, 2), (2, 1), (1, 3)]\n"
     ]
    }
   ],
   "source": [
    "for i in range(len(final_patternB_list)):\n",
    "    tupl = (final_patternB_list[i][0], final_patternB_list[i][1])\n",
    "    tupl2 = (final_patternB_list[i][0], final_patternB_list[i][2])\n",
    "    if tupl in patternA_list:\n",
    "        patternA_list.remove(tupl)\n",
    "    if tupl2 in patternA_list:\n",
    "        patternA_list.remove(tupl2)  \n",
    "\n",
    "print(patternA_list)"
   ]
  },
  {
   "cell_type": "markdown",
   "metadata": {},
   "source": [
    "b) eliminating b->d, c->d if there exists some (b#c)->d"
   ]
  },
  {
   "cell_type": "code",
   "execution_count": 972,
   "metadata": {},
   "outputs": [
    {
     "name": "stdout",
     "output_type": "stream",
     "text": [
      "[(0, 1), (1, 2), (2, 3), (3, 4), (0, 2), (2, 1), (1, 3)]\n"
     ]
    }
   ],
   "source": [
    "for i in range(len(final_patternC_list)):\n",
    "    tupl = (final_patternC_list[i][0], final_patternC_list[i][2])\n",
    "    tupl2 = (final_patternC_list[i][1], final_patternC_list[i][2])\n",
    "    if tupl in patternA_list:\n",
    "        patternA_list.remove(tupl)\n",
    "    if tupl2 in patternA_list:\n",
    "        patternA_list.remove(tupl2)  \n",
    "\n",
    "print(patternA_list)"
   ]
  },
  {
   "cell_type": "markdown",
   "metadata": {},
   "source": [
    "c) eliminating connections cosed by ||"
   ]
  },
  {
   "cell_type": "code",
   "execution_count": 973,
   "metadata": {},
   "outputs": [
    {
     "name": "stdout",
     "output_type": "stream",
     "text": [
      "[(0, 1), (2, 3), (3, 4), (0, 2), (1, 3)]\n"
     ]
    }
   ],
   "source": [
    "for i in range(len(footprint)):\n",
    "    for j in range(len(footprint)):\n",
    "        if(footprint[i][j] == 3):\n",
    "            patternA_list.remove((i, j))\n",
    "\n",
    "print(patternA_list)"
   ]
  },
  {
   "cell_type": "markdown",
   "metadata": {},
   "source": [
    "d) Finding parallel connections"
   ]
  },
  {
   "cell_type": "code",
   "execution_count": 974,
   "metadata": {},
   "outputs": [
    {
     "name": "stdout",
     "output_type": "stream",
     "text": [
      "[[0, 1, 2]]\n",
      "[[2, 1, 3]]\n"
     ]
    }
   ],
   "source": [
    "first_tuple_tab = []\n",
    "patternD_list = []\n",
    "patternE_list = []\n",
    "i = 0\n",
    "for elem in patternA_list:\n",
    "    i = i+1\n",
    "    tmp_tab = []\n",
    "    tmp_tab2 = []\n",
    "    for elem2 in patternA_list[i:]:\n",
    "        if(elem[0] == elem2[0]):\n",
    "            tmp_tab.append(elem[0])\n",
    "            tmp_tab.append(elem[1])\n",
    "            tmp_tab.append(elem2[1])\n",
    "            patternD_list.append(tmp_tab)\n",
    "        if(elem[1] == elem2[1]):\n",
    "            tmp_tab2.append(elem[0])\n",
    "            tmp_tab2.append(elem2[0])\n",
    "            tmp_tab2.append(elem[1])\n",
    "            patternE_list.append(tmp_tab2)   \n",
    "                                \n",
    "print(patternD_list)    \n",
    "print(patternE_list)  "
   ]
  },
  {
   "cell_type": "markdown",
   "metadata": {},
   "source": [
    "* eliminating connections cosed by a||(b, c)"
   ]
  },
  {
   "cell_type": "code",
   "execution_count": 975,
   "metadata": {},
   "outputs": [
    {
     "name": "stdout",
     "output_type": "stream",
     "text": [
      "[(2, 3), (3, 4), (1, 3)]\n"
     ]
    }
   ],
   "source": [
    "for i in range(len(patternD_list)):\n",
    "    tupl = (patternD_list[i][0], patternD_list[i][1])\n",
    "    tupl2 = (patternD_list[i][0], patternD_list[i][2])\n",
    "    if tupl in patternA_list:\n",
    "        patternA_list.remove(tupl)\n",
    "    if tupl2 in patternA_list:\n",
    "        patternA_list.remove(tupl2)  \n",
    "\n",
    "print(patternA_list)"
   ]
  },
  {
   "cell_type": "markdown",
   "metadata": {},
   "source": [
    "* eliminating connections cosed by (b,c)||d"
   ]
  },
  {
   "cell_type": "code",
   "execution_count": 976,
   "metadata": {},
   "outputs": [
    {
     "name": "stdout",
     "output_type": "stream",
     "text": [
      "[(3, 4)]\n"
     ]
    }
   ],
   "source": [
    "for i in range(len(patternE_list)):\n",
    "    tupl = (patternE_list[i][0], patternE_list[i][2])\n",
    "    tupl2 = (patternE_list[i][1], patternE_list[i][2])\n",
    "    if tupl in patternA_list:\n",
    "        patternA_list.remove(tupl)\n",
    "    if tupl2 in patternA_list:\n",
    "        patternA_list.remove(tupl2)  \n",
    "\n",
    "print(patternA_list)"
   ]
  },
  {
   "cell_type": "markdown",
   "metadata": {},
   "source": [
    "* some addictional necessary work"
   ]
  },
  {
   "cell_type": "code",
   "execution_count": 977,
   "metadata": {},
   "outputs": [
    {
     "name": "stdout",
     "output_type": "stream",
     "text": [
      "[1, 2, 3]\n"
     ]
    }
   ],
   "source": [
    "tab_of_tasks = []\n",
    "\n",
    "for elem in range(max_task):\n",
    "    if elem not in Tinput:\n",
    "        if elem not in Toutput:\n",
    "            tab_of_tasks.append(elem)\n",
    "            \n",
    "print(tab_of_tasks)"
   ]
  },
  {
   "cell_type": "code",
   "execution_count": 978,
   "metadata": {},
   "outputs": [
    {
     "name": "stdout",
     "output_type": "stream",
     "text": [
      "[[0], [0, 1, 2], (2, 3), (3, 4), (4, 5), [1, 5, 6], [6, 7, 9], (9, 10)]\n"
     ]
    }
   ],
   "source": [
    "print(order_tab)"
   ]
  },
  {
   "cell_type": "code",
   "execution_count": 979,
   "metadata": {},
   "outputs": [
    {
     "name": "stdout",
     "output_type": "stream",
     "text": [
      "[0]\n"
     ]
    }
   ],
   "source": [
    "print(Tinput)"
   ]
  },
  {
   "cell_type": "code",
   "execution_count": 980,
   "metadata": {},
   "outputs": [
    {
     "name": "stdout",
     "output_type": "stream",
     "text": [
      "[4]\n"
     ]
    }
   ],
   "source": [
    "print(Toutput)"
   ]
  },
  {
   "cell_type": "markdown",
   "metadata": {},
   "source": [
    "Final set of a->b connections (patternA_list)"
   ]
  },
  {
   "cell_type": "code",
   "execution_count": 981,
   "metadata": {},
   "outputs": [
    {
     "name": "stdout",
     "output_type": "stream",
     "text": [
      "[(3, 4)]\n"
     ]
    }
   ],
   "source": [
    "print(patternA_list)"
   ]
  },
  {
   "cell_type": "markdown",
   "metadata": {},
   "source": [
    "Final set of a->(b#c) connections (final_triples)"
   ]
  },
  {
   "cell_type": "code",
   "execution_count": 982,
   "metadata": {},
   "outputs": [
    {
     "name": "stdout",
     "output_type": "stream",
     "text": [
      "[]\n"
     ]
    }
   ],
   "source": [
    "print(final_patternB_list) "
   ]
  },
  {
   "cell_type": "markdown",
   "metadata": {},
   "source": [
    "Final set of (b#c)->d connections (final_patternC_list)"
   ]
  },
  {
   "cell_type": "code",
   "execution_count": 983,
   "metadata": {},
   "outputs": [
    {
     "name": "stdout",
     "output_type": "stream",
     "text": [
      "[]\n"
     ]
    }
   ],
   "source": [
    "print(final_patternC_list) "
   ]
  },
  {
   "cell_type": "markdown",
   "metadata": {},
   "source": [
    "Final set of a||(b,c)"
   ]
  },
  {
   "cell_type": "code",
   "execution_count": 984,
   "metadata": {},
   "outputs": [
    {
     "name": "stdout",
     "output_type": "stream",
     "text": [
      "[[0, 1, 2]]\n"
     ]
    }
   ],
   "source": [
    "print(patternD_list)"
   ]
  },
  {
   "cell_type": "markdown",
   "metadata": {},
   "source": [
    "Final set of (b,c)||d"
   ]
  },
  {
   "cell_type": "code",
   "execution_count": 985,
   "metadata": {},
   "outputs": [
    {
     "name": "stdout",
     "output_type": "stream",
     "text": [
      "[[2, 1, 3]]\n"
     ]
    }
   ],
   "source": [
    "print(patternE_list)  "
   ]
  },
  {
   "cell_type": "markdown",
   "metadata": {},
   "source": [
    "# Drawing a model"
   ]
  },
  {
   "cell_type": "code",
   "execution_count": 986,
   "metadata": {},
   "outputs": [],
   "source": [
    "import bpmn_python.bpmn_diagram_rep as diagram\n",
    "import bpmn_python.bpmn_diagram_layouter as layouter\n",
    "import bpmn_python.bpmn_diagram_visualizer as visualizer\n",
    "import bpmn_python.bpmn_diagram_rep as diagram\n",
    "import graphviz\n",
    " \n",
    "bpmn_graph = diagram.BpmnDiagramGraph()\n",
    "bpmn_graph.create_new_diagram_graph(diagram_name=\"diagram1\")\n",
    "process_id = bpmn_graph.add_process_to_diagram()"
   ]
  },
  {
   "cell_type": "code",
   "execution_count": 987,
   "metadata": {},
   "outputs": [],
   "source": [
    "# beginning  TODO : case of multiple elements in Tinput\n",
    "tab = {}\n",
    "tab_help=[]\n",
    "\n",
    "[start_id, _] = bpmn_graph.add_start_event_to_diagram(process_id, start_event_name=\"start_event\")\n",
    "if(len(Tinput) > 1):  \n",
    "    [exclusive_gate_id, _] = bpmn_graph.add_exclusive_gateway_to_diagram(process_id, gateway_name=\"X\")\n",
    "    for elem in Tinput:\n",
    "        if elem not in tab_help:\n",
    "            tab[elem] = bpmn_graph.add_task_to_diagram(process_id, task_name=elem)\n",
    "            tab_help.append(elem)\n",
    "    bpmn_graph.add_sequence_flow_to_diagram(process_id, start_id, exclusive_gate_id)\n",
    "    bpmn_graph.add_sequence_flow_to_diagram(process_id, exclusive_gate_id, tab[Tinput[0]][0])\n",
    "    bpmn_graph.add_sequence_flow_to_diagram(process_id, exclusive_gate_id, tab[Tinput[1]][0])\n",
    "else:\n",
    "    tab[Tinput[0]] = bpmn_graph.add_task_to_diagram(process_id, task_name=Tinput[0])\n",
    "    bpmn_graph.add_sequence_flow_to_diagram(process_id, start_id, tab[Tinput[0]][0])\n",
    "    tab_help.append(Tinput[0])\n",
    "    \n",
    "# connections a#(b,c)\n",
    "for elem in final_patternB_list:\n",
    "    [exclusive_gate_id, _] = bpmn_graph.add_exclusive_gateway_to_diagram(process_id, gateway_name=\"X\")\n",
    "    for val in elem:\n",
    "        if(val not in tab_help):\n",
    "            tab[val] = bpmn_graph.add_task_to_diagram(process_id, task_name=val)\n",
    "            tab_help.append(val)  \n",
    "    bpmn_graph.add_sequence_flow_to_diagram(process_id, tab[elem[0]][0], exclusive_gate_id)\n",
    "    bpmn_graph.add_sequence_flow_to_diagram(process_id, exclusive_gate_id, tab[elem[1]][0])\n",
    "    bpmn_graph.add_sequence_flow_to_diagram(process_id, exclusive_gate_id, tab[elem[2]][0])     \n",
    " \n",
    "# tasks\n",
    "for elem in patternA_list:\n",
    "    if(elem[0] not in tab_help):\n",
    "        tab[elem[0]] = bpmn_graph.add_task_to_diagram(process_id, task_name=elem[0])\n",
    "        tab_help.append(elem[0])\n",
    "    if(elem[1] not in tab_help):\n",
    "        tab[elem[1]] = bpmn_graph.add_task_to_diagram(process_id, task_name=elem[1])\n",
    "        tab_help.append(elem[1])\n",
    "    bpmn_graph.add_sequence_flow_to_diagram(process_id, tab[elem[0]][0], tab[elem[1]][0]) \n",
    "\n",
    "# connections (b,c)#d\n",
    "for elem in final_patternC_list:\n",
    "    [exclusive_gate_id, _] = bpmn_graph.add_exclusive_gateway_to_diagram(process_id, gateway_name=\"X\")\n",
    "    for val in elem:\n",
    "        if(val not in tab_help):\n",
    "            tab[val] = bpmn_graph.add_task_to_diagram(process_id, task_name=val)\n",
    "            tab_help.append(val)\n",
    "    bpmn_graph.add_sequence_flow_to_diagram(process_id, tab[elem[0]][0], exclusive_gate_id)\n",
    "    bpmn_graph.add_sequence_flow_to_diagram(process_id, tab[elem[1]][0], exclusive_gate_id)\n",
    "    bpmn_graph.add_sequence_flow_to_diagram(process_id, exclusive_gate_id, tab[elem[2]][0])\n",
    "               \n",
    "# connections (b,c)||d\n",
    "for elem in patternE_list:\n",
    "    [plus_gate_id, _] = bpmn_graph.add_exclusive_gateway_to_diagram(process_id, gateway_name=\"+\")\n",
    "    for val in elem:\n",
    "        if(val not in tab_help):\n",
    "            tab[val] = bpmn_graph.add_task_to_diagram(process_id, task_name=val)\n",
    "            tab_help.append(val)\n",
    "    bpmn_graph.add_sequence_flow_to_diagram(process_id, tab[elem[0]][0], plus_gate_id)\n",
    "    bpmn_graph.add_sequence_flow_to_diagram(process_id, tab[elem[1]][0], plus_gate_id)\n",
    "    bpmn_graph.add_sequence_flow_to_diagram(process_id, plus_gate_id, tab[elem[2]][0])           \n",
    "        \n",
    "# connections a||(b,c)\n",
    "for elem in patternD_list:\n",
    "    [plus_gate_id, _] = bpmn_graph.add_exclusive_gateway_to_diagram(process_id, gateway_name=\"+\")\n",
    "    for val in elem:\n",
    "        if(val not in tab_help):\n",
    "            tab[val] = bpmn_graph.add_task_to_diagram(process_id, task_name=val)\n",
    "            tab_help.append(val)   \n",
    "    bpmn_graph.add_sequence_flow_to_diagram(process_id, tab[elem[0]][0], plus_gate_id)\n",
    "    bpmn_graph.add_sequence_flow_to_diagram(process_id, plus_gate_id, tab[elem[1]][0])\n",
    "    bpmn_graph.add_sequence_flow_to_diagram(process_id, plus_gate_id, tab[elem[2]][0])  \n",
    "\n",
    "# end  TODO : case of multiple elements in Tinput\n",
    "if(len(Toutput) > 1):\n",
    "    [exclusive_gate_id, _] = bpmn_graph.add_exclusive_gateway_to_diagram(process_id, gateway_name=\"X\")\n",
    "    for elem in Toutput:\n",
    "        if elem not in tab_help: \n",
    "            tab[elem] = bpmn_graph.add_task_to_diagram(process_id, task_name=elem)\n",
    "            tab_help.append(elem)\n",
    "    bpmn_graph.add_sequence_flow_to_diagram(process_id, tab[Toutput[0]][0], exclusive_gate_id)\n",
    "    bpmn_graph.add_sequence_flow_to_diagram(process_id, tab[Toutput[1]][0], exclusive_gate_id)\n",
    "    [end_id, _] = bpmn_graph.add_end_event_to_diagram(process_id, end_event_name=\"end_event\")\n",
    "    bpmn_graph.add_sequence_flow_to_diagram(process_id, exclusive_gate_id, end_id)\n",
    "else:\n",
    "    if Toutput[0] not in tab_help:\n",
    "        tab[Toutput[0]] = bpmn_graph.add_task_to_diagram(process_id, task_name=Toutput[0])\n",
    "    [end_id, _] = bpmn_graph.add_end_event_to_diagram(process_id, end_event_name=\"end_event\")\n",
    "    bpmn_graph.add_sequence_flow_to_diagram(process_id, tab[Toutput[0]][0], end_id)       \n",
    "    \n",
    "visualizer.bpmn_diagram_to_png(bpmn_graph, file_name = 'model_example2')"
   ]
  },
  {
   "cell_type": "code",
   "execution_count": null,
   "metadata": {},
   "outputs": [],
   "source": []
  }
 ],
 "metadata": {
  "kernelspec": {
   "display_name": "Python 3",
   "language": "python",
   "name": "python3"
  },
  "language_info": {
   "codemirror_mode": {
    "name": "ipython",
    "version": 3
   },
   "file_extension": ".py",
   "mimetype": "text/x-python",
   "name": "python",
   "nbconvert_exporter": "python",
   "pygments_lexer": "ipython3",
   "version": "3.7.6"
  }
 },
 "nbformat": 4,
 "nbformat_minor": 4
}
