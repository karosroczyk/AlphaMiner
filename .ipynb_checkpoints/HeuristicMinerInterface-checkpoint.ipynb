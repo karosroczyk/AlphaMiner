{
 "cells": [
  {
   "cell_type": "code",
   "execution_count": 995,
   "metadata": {
    "scrolled": true
   },
   "outputs": [],
   "source": [
    "import os\n",
    "import pandas as pd\n",
    "import numpy as np\n",
    "import bpmn_python.bpmn_diagram_rep as diagram\n",
    "import bpmn_python.bpmn_diagram_layouter as layouter\n",
    "import bpmn_python.bpmn_diagram_visualizer as visualizer\n",
    "import graphviz\n",
    "from ipywidgets.widgets import Label, Layout, Button, interact, interactive, IntSlider, Checkbox, VBox\n",
    "from IPython.display import display\n",
    "import numpy as np\n",
    "\n",
    "import import_ipynb\n",
    "import Untitled"
   ]
  },
  {
   "cell_type": "markdown",
   "metadata": {},
   "source": [
    "1) Set of all tasks and frequencies"
   ]
  },
  {
   "cell_type": "code",
   "execution_count": 996,
   "metadata": {},
   "outputs": [],
   "source": [
    "#log_tab = [[0,1,2,3,5,6,8],[0,1,2,4,5,7,8],[0,1,2,1,2,3,5,6,8],[0,0,1,2,4,5,7,8],[0,0,1,2,3,5,6,8],[0,0,1,2,1,2,4,5,7,8],[0,1,2,1,2,1,2,4,5,7,8],[0,1,2,1,2,1,2,3,5,6,8],[0,1,2,1,2,4,5,7,8],[0,0,1,2,1,2,3,5,6,8],[0,1,2,1,2,1,2,1,2,3,5,6,8],[0,0,1,2,1,2,1,2,4,5,7,8],[0,0,0,1,2,4,5,7,8],[0,0,0,1,2,1,2,3,5,6,8],[0,0,0,1,2,3,5,6,8],[0,0,0,0,1,2,4,5,7,8]]\n",
    "log_tab = [[0,1,2,3],[0,2,1,3],[0,4,3],[0,1,2,4,3],[0,4,2,1,3],[0,3]]\n",
    "max_task = 0\n",
    "\n",
    "for row in log_tab:\n",
    "    if (max(row) > max_task):\n",
    "        max_task = max(row)\n",
    "        \n",
    "#freq = [35,25,9,8,6,3,2,2,2,2,1,1,1,1,1,1]\n",
    "freq = [9,1,9,1,1,1]"
   ]
  },
  {
   "cell_type": "markdown",
   "metadata": {},
   "source": [
    "2) Connections matrix"
   ]
  },
  {
   "cell_type": "code",
   "execution_count": 997,
   "metadata": {},
   "outputs": [],
   "source": [
    "patternA_list = []\n",
    "connection = [[0 for x in range(max_task+1)] for x in range(max_task+1)] \n",
    "i = -1\n",
    "\n",
    "for row in log_tab:\n",
    "    i = i + 1\n",
    "    for j in range(len(row)-1):\n",
    "        tupl = (log_tab[i][j], log_tab[i][j+1])\n",
    "        x = log_tab[i][j]\n",
    "        y = log_tab[i][j+1]\n",
    "        connection[x][y] = connection[x][y] + freq[i]\n",
    "        patternA_list.append(tupl)"
   ]
  },
  {
   "cell_type": "markdown",
   "metadata": {},
   "source": [
    "3) Creating dependency matrix"
   ]
  },
  {
   "cell_type": "code",
   "execution_count": 998,
   "metadata": {},
   "outputs": [],
   "source": [
    "def calculate_dependency(x,y):\n",
    "    return (connection[x][y] - connection[y][x])/(connection[x][y] + connection[y][x] + 1)"
   ]
  },
  {
   "cell_type": "code",
   "execution_count": 999,
   "metadata": {},
   "outputs": [
    {
     "name": "stdout",
     "output_type": "stream",
     "text": [
      "[[0.0, 0.9090909090909091, 0.5, 0.5, 0.9090909090909091], [-0.9090909090909091, 0.0, 0.6153846153846154, 0.6666666666666666, 0.0], [-0.5, -0.6153846153846154, 0.0, 0.9, 0.0], [-0.5, -0.6666666666666666, -0.9, 0.0, -0.9090909090909091], [-0.9090909090909091, 0.0, 0.0, 0.9090909090909091, 0.0]]\n"
     ]
    }
   ],
   "source": [
    "dependency_matrix = [[0 for x in range(max_task+1)] for x in range(max_task+1)]  \n",
    "\n",
    "for i in range(len(connection)):\n",
    "    for j in range(len(connection)):\n",
    "        dependency_matrix[i][j] = calculate_dependency(i,j)\n",
    "        \n",
    "print(dependency_matrix)"
   ]
  },
  {
   "cell_type": "markdown",
   "metadata": {},
   "source": [
    "* Parameters"
   ]
  },
  {
   "cell_type": "code",
   "execution_count": 1000,
   "metadata": {},
   "outputs": [],
   "source": [
    "dependency = IntSlider(description='Dependency:')\n",
    "relative_to_best = IntSlider(description='Relative_to_best:')\n",
    "length_one_loop = IntSlider(description='One_loop:')\n",
    "length_two_loop = IntSlider(description='Two_loop:')\n",
    "long_distance = IntSlider(description='Long_loop:')\n",
    "\n",
    "all_task_connected = Checkbox(description='all_task_connected')\n",
    "long_distance_dependency = Checkbox(description='long_distance_dependency')\n",
    "ignore_two_loop = Checkbox(description='ignore_two_loop')"
   ]
  },
  {
   "cell_type": "markdown",
   "metadata": {},
   "source": [
    "4) Necessary functions"
   ]
  },
  {
   "cell_type": "code",
   "execution_count": 1001,
   "metadata": {},
   "outputs": [],
   "source": [
    "def simple_connections(dependency_list):\n",
    "    all_task_con = all_task_connected.value\n",
    "    rel_to_best = relative_to_best.value/100 #done\n",
    "    dep = dependency.value/100 #done\n",
    "    dependency_matrix1 = [[0 for x in range(max_task+1)] for x in range(max_task+1)]   \n",
    "    \n",
    "    for i in range(len(connection)):\n",
    "        for j in range(len(connection)):\n",
    "            if(dependency_matrix[i][j] > 0):\n",
    "                tupl = (i,j)\n",
    "                all_task_list.append(tupl)                \n",
    "            if(all_task_con == 0):\n",
    "                if(dependency_matrix[i][j] >= dep):\n",
    "                    tupl = (i,j)\n",
    "                    dependency_list.append(tupl)\n",
    "                    dependency_matrix1[i][j] = dependency_matrix[i][j]\n",
    "            else:\n",
    "                dependency_matrix1[i][j] = dependency_matrix[i][j]\n",
    "                    \n",
    "    if(all_task_con == 0):\n",
    "        dependency_list = all_task_list\n",
    "        \n",
    "    for row in dependency_matrix1:\n",
    "        maxi = row.index(max(row))\n",
    "        threshold = row[maxi]*(1-rel_to_best)\n",
    "        for elem in row:\n",
    "            if(elem < threshold):\n",
    "                x = dependency_matrix1.index(row)\n",
    "                y = row.index(elem)\n",
    "                dependency_matrix1[x][y] = 0\n",
    "                tupl_tmp = (x, y)\n",
    "                if tupl_tmp in dependency_list:\n",
    "                    dependency_list.remove(tupl_tmp)"
   ]
  },
  {
   "cell_type": "code",
   "execution_count": 1002,
   "metadata": {},
   "outputs": [],
   "source": [
    "def oneloop_connections():\n",
    "    # length_one_loop parameter \n",
    "    len_one_loop = length_one_loop.value/100 #done\n",
    "    shortloop_matrix = [[0 for x in range(max_task+1)] for x in range(max_task+1)]  \n",
    "    for i in range(len(connection)):\n",
    "        if(connection[i][i] != 0):\n",
    "            var = calculate_shortloop(i,i)\n",
    "            shortloop_matrix[i][i] = var\n",
    "            if(var >= len_one_loop):\n",
    "                tupl = (i,i)\n",
    "                dependency_list.append(tupl)"
   ]
  },
  {
   "cell_type": "code",
   "execution_count": 1003,
   "metadata": {},
   "outputs": [],
   "source": [
    "def twoloop_connections():\n",
    "    i_two_loop = ignore_two_loop.value\n",
    "    len_two_loop = length_two_loop.value/100 #done\n",
    "    twoloop = [[0 for x in range(max_task+1)] for x in range(max_task+1)]\n",
    "    j = -1\n",
    "    \n",
    "    for row in log_tab:\n",
    "        j = j + 1\n",
    "        for i in range(len(row)-2):\n",
    "            first = row[i]\n",
    "            second = row[i+1]\n",
    "            third = row[i+2]\n",
    "            if(first == third):\n",
    "                twoloop[first][second] = twoloop[first][second] + freq[j]\n",
    "                \n",
    "    loop_list = []\n",
    "\n",
    "    for i in range(max_task+1):\n",
    "        for j in range(max_task+1):\n",
    "            var = (twoloop[i][j]+twoloop[j][i])/(twoloop[i][j]+twoloop[j][i] + 1)\n",
    "            if (i_two_loop == 0 and var >= len_two_loop and i!=j):\n",
    "                tupl = (i,j)\n",
    "                loop_list.append(tupl) \n",
    "    return loop_list"
   ]
  },
  {
   "cell_type": "code",
   "execution_count": 1004,
   "metadata": {},
   "outputs": [],
   "source": [
    "def create_Tinput():\n",
    "    Tinput = []\n",
    "    for i in range(len(dependency_list)):\n",
    "        if log_tab[i][0] not in Tinput:\n",
    "            Tinput.append(log_tab[i][0])\n",
    "    return Tinput"
   ]
  },
  {
   "cell_type": "code",
   "execution_count": 1005,
   "metadata": {},
   "outputs": [],
   "source": [
    "def create_Toutput():\n",
    "    Toutput = []\n",
    "    for i in range(len(dependency_list)):\n",
    "        if log_tab[i][len(log_tab[i])-1] not in Toutput:\n",
    "            Toutput.append(log_tab[i][len(log_tab[i])-1])\n",
    "    return Toutput"
   ]
  },
  {
   "cell_type": "code",
   "execution_count": 1006,
   "metadata": {},
   "outputs": [],
   "source": [
    "def create_patternB(footprint):\n",
    "    patternB_list = []\n",
    "    for i in range(len(footprint)):\n",
    "        tab_tmp = []\n",
    "        for j in range(len(footprint)):\n",
    "            if(footprint[i][j] == 1):\n",
    "                tab_tmp.append(j)\n",
    "        if(len(tab_tmp) > 1):\n",
    "            tab_tmp.append(i)\n",
    "            tab_tmp = np.asarray(tab_tmp)\n",
    "            patternB_list.append(tab_tmp)    \n",
    "    \n",
    "    for i in range(len(patternB_list)):\n",
    "        tupl = (patternB_list[i][0], patternB_list[i][1])\n",
    "        tupl2 = (patternB_list[i][0], patternB_list[i][2])\n",
    "        tupl3 = (patternB_list[i][2], patternB_list[i][0])\n",
    "        tupl4 = (patternB_list[i][2], patternB_list[i][1])\n",
    "        tab = [tupl, tupl2, tupl3, tupl4]\n",
    "        for elem in tab:\n",
    "            if elem in dependency_list:\n",
    "                dependency_list.remove(elem)\n",
    "    \n",
    "    return patternB_list"
   ]
  },
  {
   "cell_type": "code",
   "execution_count": 1013,
   "metadata": {},
   "outputs": [],
   "source": [
    "def create_patternC(footprint):\n",
    "    patternC_list = []\n",
    "    for i in range(len(footprint)):\n",
    "        tab_tmp2 = []\n",
    "        for j in range(len(footprint)):\n",
    "            if(footprint[j][i] == 1):\n",
    "                tab_tmp2.append(j)\n",
    "        if(len(tab_tmp2) > 1):\n",
    "            tab_tmp2.append(i)\n",
    "            tab_tmp2 = np.asarray(tab_tmp2)\n",
    "            patternC_list.append(tab_tmp2) \n",
    "            \n",
    "    for i in range(len(patternC_list)):\n",
    "        tupl = (patternC_list[i][0], patternC_list[i][2])\n",
    "        tupl2 = (patternC_list[i][1], patternC_list[i][2])\n",
    "        tupl3 = (patternC_list[i][2], patternC_list[i][0])\n",
    "        tupl4 = (patternC_list[i][2], patternC_list[i][1])\n",
    "        tab = [tupl, tupl2, tupl3, tupl4]\n",
    "        for elem in tab:\n",
    "            if elem in dependency_list:\n",
    "                dependency_list.remove(elem) \n",
    "    \n",
    "    return patternC_list"
   ]
  },
  {
   "cell_type": "code",
   "execution_count": 1034,
   "metadata": {},
   "outputs": [],
   "source": [
    "def checkWhatIsConnected(Tinput, patternB_list, patternC_list, Toutput):\n",
    "    print(Tinput)\n",
    "    checkWhatIsConnectedList = {}\n",
    "    check_list = []\n",
    "    for elem in dependency_list:\n",
    "        check_list.append(elem)  \n",
    "\n",
    "    for elem in patternB_list:\n",
    "        tupl = (elem[2], elem[0])\n",
    "        tupl2 = (elem[2], elem[1])\n",
    "        check_list.append(tupl)\n",
    "        check_list.append(tupl2)\n",
    "\n",
    "    for elem in patternC_list:\n",
    "        tupl = (elem[0], elem[2])\n",
    "        tupl2 = (elem[1], elem[2])\n",
    "        check_list.append(tupl)\n",
    "        check_list.append(tupl2)\n",
    "        \n",
    "    for i in range(max_task+1):\n",
    "        checkWhatIsConnectedList[i] = False\n",
    "    \n",
    "    for i in range(max_task+1):\n",
    "        taken_begin = False\n",
    "        taken_end = False\n",
    "        for elem in check_list:\n",
    "            if(i == Tinput[0]):\n",
    "                if(elem[0] == i):\n",
    "                    taken_begin = True\n",
    "                taken_end = True\n",
    "            elif(i == Toutput[0]):\n",
    "                if(elem[1] == i):\n",
    "                    taken_end = True\n",
    "                taken_begin = True\n",
    "            else:\n",
    "                if(elem[0] == i):\n",
    "                    taken_begin = True\n",
    "                if(elem[1] == i):\n",
    "                    taken_end = True\n",
    "        if(taken_begin == False):\n",
    "            for elem in all_task_list:\n",
    "                if(elem[0] == i):\n",
    "                    print(\"ok\", elem)\n",
    "                    taken_begin = True \n",
    "                    dependency_list.append(elem)\n",
    "                    check_list.append(elem)\n",
    "                    break;\n",
    "        if(taken_end == False):\n",
    "            for elem in all_task_list:\n",
    "                if(elem[1] == i):\n",
    "                    taken_end = True \n",
    "                    dependency_list.append(elem)\n",
    "                    check_list.append(elem)\n",
    "                    break;\n",
    "        if(taken_begin == True and taken_end == True):\n",
    "            checkWhatIsConnectedList[i] = True\n",
    "    \n",
    "    print(all_task_list)\n",
    "    for elem in all_task_list:\n",
    "        if(elem not in check_list):\n",
    "            dependency_list.append(elem)\n",
    "    print(dependency_list)"
   ]
  },
  {
   "cell_type": "code",
   "execution_count": 1035,
   "metadata": {},
   "outputs": [],
   "source": [
    "dependency_list = []\n",
    "all_task_list = []  \n",
    "\n",
    "def calculate_shortloop(x,y):\n",
    "    return connection[x][y]/(connection[x][y] + 1)\n",
    "\n",
    "def calculate_twoloop(x,y, twoloop):\n",
    "    return (twoloop[x][y]+twoloop[y][x])/(twoloop[x][y]+twoloop[y][x] + 1)\n",
    "\n",
    "def generate_model(b):  \n",
    "       \n",
    "    simple_connections(dependency_list)\n",
    "    oneloop_connections()\n",
    "    loop_list = twoloop_connections()\n",
    "                    \n",
    "    Tinput = create_Tinput() \n",
    "    Toutput = create_Toutput()\n",
    "    \n",
    "    # Matrix from AlphaMiner\n",
    "    footprint = np.zeros((max_task+1, max_task+1))\n",
    "    for i in dependency_list:\n",
    "        x = i[0]\n",
    "        y = i[1]\n",
    "        footprint[x][y] = 1\n",
    "\n",
    "    for i in loop_list:\n",
    "        x = i[0]\n",
    "        y = i[1]\n",
    "        footprint[x][y] = footprint[x][y] + 2       \n",
    "    footprint[1][2] = 1  #TODO: tu jakis problem       \n",
    "        \n",
    "    # 7) Creating a model\n",
    "    patternB_list = create_patternB(footprint)\n",
    "    patternC_list = create_patternC(footprint)\n",
    "    \n",
    "    for i in range(len(footprint)):\n",
    "        for j in range(len(footprint)):\n",
    "            if(footprint[i][j] >= 3):\n",
    "                dependency_list.remove((i, j))\n",
    "    \n",
    "    tab_of_tasks = []\n",
    "    for elem in range(max_task):\n",
    "        tab_of_tasks.append(elem)\n",
    "    print(dependency_list)  \n",
    "    checkWhatIsConnected(Tinput, patternB_list, patternC_list, Toutput)\n",
    "    dependency_list.extend(loop_list)\n",
    "    create_graph(Tinput, patternB_list, patternC_list, dependency_list, Toutput)"
   ]
  },
  {
   "cell_type": "code",
   "execution_count": 1036,
   "metadata": {},
   "outputs": [],
   "source": [
    "def create_graph(Tinput, patternB_list, patternC_list, dependency_list, Toutput):\n",
    "    # Graph   \n",
    "    bpmn_graph = diagram.BpmnDiagramGraph()\n",
    "    bpmn_graph.create_new_diagram_graph(diagram_name=\"diagram1\")\n",
    "    process_id = bpmn_graph.add_process_to_diagram()\n",
    "    \n",
    "    tab = {}\n",
    "    tab_help=[]\n",
    "    \n",
    "    #beginning\n",
    "    [start_id, _] = bpmn_graph.add_start_event_to_diagram(process_id, start_event_name=\"start_event\")\n",
    "    if(len(Tinput) > 1):  \n",
    "        [exclusive_gate_id, _] = bpmn_graph.add_exclusive_gateway_to_diagram(process_id, gateway_name=\"X\")\n",
    "        for elem in Tinput:\n",
    "            if elem not in tab_help:\n",
    "                tab[elem] = bpmn_graph.add_task_to_diagram(process_id, task_name=elem)\n",
    "                tab_help.append(elem)\n",
    "        bpmn_graph.add_sequence_flow_to_diagram(process_id, start_id, exclusive_gate_id)\n",
    "        bpmn_graph.add_sequence_flow_to_diagram(process_id, exclusive_gate_id, tab[Tinput[0]][0])\n",
    "        bpmn_graph.add_sequence_flow_to_diagram(process_id, exclusive_gate_id, tab[Tinput[1]][0])\n",
    "    else:\n",
    "        tab[Tinput[0]] = bpmn_graph.add_task_to_diagram(process_id, task_name=Tinput[0])\n",
    "        bpmn_graph.add_sequence_flow_to_diagram(process_id, start_id, tab[Tinput[0]][0])\n",
    "        tab_help.append(Tinput[0])       \n",
    "    \n",
    "    # connections a#(b,c)\n",
    "    for elem in patternB_list:\n",
    "        [exclusive_gate_id, _] = bpmn_graph.add_exclusive_gateway_to_diagram(process_id, gateway_name=\"X\")\n",
    "        for val in elem:\n",
    "            if(val not in tab_help):\n",
    "                tab[val] = bpmn_graph.add_task_to_diagram(process_id, task_name=val)\n",
    "                tab_help.append(val)       \n",
    "        bpmn_graph.add_sequence_flow_to_diagram(process_id, tab[elem[2]][0], exclusive_gate_id)\n",
    "        #if(elem[0] == elem[1]):\n",
    "        bpmn_graph.add_sequence_flow_to_diagram(process_id, exclusive_gate_id, tab[elem[0]][0])\n",
    "        bpmn_graph.add_sequence_flow_to_diagram(process_id, exclusive_gate_id, tab[elem[1]][0]) \n",
    "\n",
    "    # connections (b,c)#d\n",
    "    for elem in patternC_list:\n",
    "        [exclusive_gate_id, _] = bpmn_graph.add_exclusive_gateway_to_diagram(process_id, gateway_name=\"X\")\n",
    "        for val in elem:\n",
    "            if(val not in tab_help):\n",
    "                tab[val] = bpmn_graph.add_task_to_diagram(process_id, task_name=val)\n",
    "                tab_help.append(val)\n",
    "        bpmn_graph.add_sequence_flow_to_diagram(process_id, tab[elem[0]][0], exclusive_gate_id)\n",
    "        bpmn_graph.add_sequence_flow_to_diagram(process_id, tab[elem[1]][0], exclusive_gate_id)\n",
    "        bpmn_graph.add_sequence_flow_to_diagram(process_id, exclusive_gate_id, tab[elem[2]][0])    \n",
    "\n",
    "    # tasks\n",
    "    for elem in dependency_list:\n",
    "        if(elem[0] not in tab_help):\n",
    "            tab[elem[0]] = bpmn_graph.add_task_to_diagram(process_id, task_name=elem[0])\n",
    "            tab_help.append(elem[0])\n",
    "        if(elem[1] not in tab_help):\n",
    "            tab[elem[1]] = bpmn_graph.add_task_to_diagram(process_id, task_name=elem[1])\n",
    "            tab_help.append(elem[1])\n",
    "        bpmn_graph.add_sequence_flow_to_diagram(process_id, tab[elem[0]][0], tab[elem[1]][0])     \n",
    "\n",
    "    # end\n",
    "    if(len(Toutput) > 1):\n",
    "        [exclusive_gate_id, _] = bpmn_graph.add_exclusive_gateway_to_diagram(process_id, gateway_name=\"X\")\n",
    "        for elem in Toutput:\n",
    "            if elem not in tab_help: \n",
    "                tab[elem] = bpmn_graph.add_task_to_diagram(process_id, task_name=elem)\n",
    "                tab_help.append(elem)\n",
    "        bpmn_graph.add_sequence_flow_to_diagram(process_id, tab[Toutput[0]][0], exclusive_gate_id)\n",
    "        bpmn_graph.add_sequence_flow_to_diagram(process_id, tab[Toutput[1]][0], exclusive_gate_id)\n",
    "        [end_id, _] = bpmn_graph.add_end_event_to_diagram(process_id, end_event_name=\"end_event\")\n",
    "        bpmn_graph.add_sequence_flow_to_diagram(process_id, exclusive_gate_id, end_id)\n",
    "    else:\n",
    "        if Toutput[0] not in tab_help:\n",
    "            tab[Toutput[0]] = bpmn_graph.add_task_to_diagram(process_id, task_name=Toutput[0])\n",
    "        [end_id, _] = bpmn_graph.add_end_event_to_diagram(process_id, end_event_name=\"end_event\")\n",
    "        bpmn_graph.add_sequence_flow_to_diagram(process_id, tab[Toutput[0]][0], end_id)      \n",
    "        \n",
    "    visualizer.bpmn_diagram_to_png(bpmn_graph, file_name = 'Model5')\n",
    "    print(\"Model generated.\")\n",
    "    \n",
    "    from IPython.display import Image\n",
    "    photo = Image(\"C:/Users/Lenovo/Desktop/Magisterka/AlphaMiner/AlphaMiner/Model5.png\")\n",
    "    display(photo)\n",
    "    print(Tinput)\n",
    "    print(patternB_list)\n",
    "    print(patternC_list)\n",
    "    print(dependency_list)\n",
    "    print(Toutput)"
   ]
  },
  {
   "cell_type": "code",
   "execution_count": 1037,
   "metadata": {
    "scrolled": false
   },
   "outputs": [
    {
     "data": {
      "application/vnd.jupyter.widget-view+json": {
       "model_id": "614831e3a8d845c8a095577d31778bed",
       "version_major": 2,
       "version_minor": 0
      },
      "text/plain": [
       "VBox(children=(IntSlider(value=90, description='Dependency:'), IntSlider(value=100, description='Relative_to_b…"
      ]
     },
     "metadata": {},
     "output_type": "display_data"
    },
    {
     "data": {
      "application/vnd.jupyter.widget-view+json": {
       "model_id": "03847337cf4e487c8954a4c5c2490344",
       "version_major": 2,
       "version_minor": 0
      },
      "text/plain": [
       "VBox(children=(Checkbox(value=False, description='all_task_connected'), Checkbox(value=False, description='ign…"
      ]
     },
     "metadata": {},
     "output_type": "display_data"
    },
    {
     "data": {
      "application/vnd.jupyter.widget-view+json": {
       "model_id": "06983381aa594d60baf341b11d98df4d",
       "version_major": 2,
       "version_minor": 0
      },
      "text/plain": [
       "Button(description='Generate model', style=ButtonStyle())"
      ]
     },
     "metadata": {},
     "output_type": "display_data"
    },
    {
     "name": "stdout",
     "output_type": "stream",
     "text": [
      "[]\n",
      "[0]\n",
      "ok (1, 2)\n",
      "[(0, 1), (0, 2), (0, 3), (0, 4), (1, 2), (1, 3), (2, 3), (4, 3)]\n",
      "[(0, 2), (0, 3), (1, 3)]\n",
      "Model generated.\n"
     ]
    },
    {
     "data": {
      "image/png": "[encoded data removed]",
      "text/plain": [
       "<IPython.core.display.Image object>"
      ]
     },
     "metadata": {},
     "output_type": "display_data"
    },
    {
     "name": "stdout",
     "output_type": "stream",
     "text": [
      "[0]\n",
      "[array([1, 4, 0])]\n",
      "[array([2, 4, 3])]\n",
      "[(0, 2), (0, 3), (1, 3)]\n",
      "[3]\n"
     ]
    }
   ],
   "source": [
    "box = VBox(children=(dependency, relative_to_best, length_one_loop, length_two_loop), layout=Layout(border='solid 2px gray', width='500px'))\n",
    "box2 = VBox(children=(all_task_connected, ignore_two_loop), layout=Layout(border='solid 2px gray', width='500px'))\n",
    "button = Button(description = \"Generate model\")\n",
    "button.on_click(generate_model)\n",
    "\n",
    "display(box)\n",
    "display(box2)\n",
    "display(button)"
   ]
  },
  {
   "cell_type": "code",
   "execution_count": null,
   "metadata": {},
   "outputs": [],
   "source": []
  }
 ],
 "metadata": {
  "kernelspec": {
   "display_name": "Python 3",
   "language": "python",
   "name": "python3"
  },
  "language_info": {
   "codemirror_mode": {
    "name": "ipython",
    "version": 3
   },
   "file_extension": ".py",
   "mimetype": "text/x-python",
   "name": "python",
   "nbconvert_exporter": "python",
   "pygments_lexer": "ipython3",
   "version": "3.7.6"
  }
 },
 "nbformat": 4,
 "nbformat_minor": 4
}
