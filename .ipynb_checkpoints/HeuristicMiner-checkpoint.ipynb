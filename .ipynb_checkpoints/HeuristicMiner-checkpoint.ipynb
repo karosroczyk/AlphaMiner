{
 "cells": [
  {
   "cell_type": "code",
   "execution_count": 134,
   "metadata": {
    "scrolled": true
   },
   "outputs": [],
   "source": [
    "import os\n",
    "from pm4py.objects.log.importer.xes import factory as xes_importer\n",
    "import pandas as pd\n",
    "import numpy as np"
   ]
  },
  {
   "cell_type": "markdown",
   "metadata": {},
   "source": [
    "1) Set of all tasks and frequencies"
   ]
  },
  {
   "cell_type": "code",
   "execution_count": 181,
   "metadata": {},
   "outputs": [
    {
     "name": "stdout",
     "output_type": "stream",
     "text": [
      "[[0, 1, 2, 3, 5, 6, 8], [0, 1, 2, 4, 5, 7, 8], [0, 1, 2, 1, 2, 3, 5, 6, 8], [0, 0, 1, 2, 4, 5, 7, 8], [0, 0, 1, 2, 3, 5, 6, 8], [0, 0, 1, 2, 1, 2, 4, 5, 7, 8], [0, 1, 2, 1, 2, 1, 2, 4, 5, 7, 8], [0, 1, 2, 1, 2, 1, 2, 3, 5, 6, 8], [0, 1, 2, 1, 2, 4, 5, 7, 8], [0, 0, 1, 2, 1, 2, 3, 5, 6, 8], [0, 1, 2, 1, 2, 1, 2, 1, 2, 3, 5, 6, 8], [0, 0, 1, 2, 1, 2, 1, 2, 4, 5, 7, 8], [0, 0, 0, 1, 2, 4, 5, 7, 8], [0, 0, 0, 1, 2, 1, 2, 3, 5, 6, 8], [0, 0, 0, 1, 2, 3, 5, 6, 8], [0, 0, 0, 0, 1, 2, 4, 5, 7, 8]]\n"
     ]
    }
   ],
   "source": [
    "log_tab = [[0,1,2,3,5,6,8],[0,1,2,4,5,7,8],[0,1,2,1,2,3,5,6,8],[0,0,1,2,4,5,7,8],[0,0,1,2,3,5,6,8],[0,0,1,2,1,2,4,5,7,8],[0,1,2,1,2,1,2,4,5,7,8],[0,1,2,1,2,1,2,3,5,6,8],[0,1,2,1,2,4,5,7,8],[0,0,1,2,1,2,3,5,6,8],[0,1,2,1,2,1,2,1,2,3,5,6,8],[0,0,1,2,1,2,1,2,4,5,7,8],[0,0,0,1,2,4,5,7,8],[0,0,0,1,2,1,2,3,5,6,8],[0,0,0,1,2,3,5,6,8],[0,0,0,0,1,2,4,5,7,8]]\n",
    "#log_tab = [[0,1,2,3],[0,2,1,3],[0,4,3],[0,1,2,4,3],[0,4,2,1,3],[0,3]]\n",
    "max_task = 0\n",
    "\n",
    "for row in log_tab:\n",
    "    if (max(row) > max_task):\n",
    "        max_task = max(row)\n",
    "\n",
    "print(log_tab)"
   ]
  },
  {
   "cell_type": "code",
   "execution_count": 182,
   "metadata": {},
   "outputs": [
    {
     "name": "stdout",
     "output_type": "stream",
     "text": [
      "[35, 25, 9, 8, 6, 3, 2, 2, 2, 2, 1, 1, 1, 1, 1, 1]\n"
     ]
    }
   ],
   "source": [
    "freq = [35,25,9,8,6,3,2,2,2,2,1,1,1,1,1,1]\n",
    "#freq = [9,1,9,1,1,1]\n",
    "print(freq)"
   ]
  },
  {
   "cell_type": "markdown",
   "metadata": {},
   "source": [
    "2) Connections matrix"
   ]
  },
  {
   "cell_type": "code",
   "execution_count": 183,
   "metadata": {},
   "outputs": [
    {
     "name": "stdout",
     "output_type": "stream",
     "text": [
      "[[29, 100, 0, 0, 0, 0, 0, 0, 0], [0, 0, 130, 0, 0, 0, 0, 0, 0], [0, 30, 0, 57, 43, 0, 0, 0, 0], [0, 0, 0, 0, 0, 57, 0, 0, 0], [0, 0, 0, 0, 0, 43, 0, 0, 0], [0, 0, 0, 0, 0, 0, 57, 43, 0], [0, 0, 0, 0, 0, 0, 0, 0, 57], [0, 0, 0, 0, 0, 0, 0, 0, 43], [0, 0, 0, 0, 0, 0, 0, 0, 0]]\n"
     ]
    }
   ],
   "source": [
    "patternA_list = []\n",
    "connection = [[0 for x in range(max_task+1)] for x in range(max_task+1)] \n",
    "i = -1\n",
    "\n",
    "for row in log_tab:\n",
    "    i = i + 1\n",
    "    for j in range(len(row)-1):\n",
    "        tupl = (log_tab[i][j], log_tab[i][j+1])\n",
    "        #if tupl not in patternA_list:\n",
    "        x = log_tab[i][j]\n",
    "        y = log_tab[i][j+1]\n",
    "        connection[x][y] = connection[x][y] + freq[i]\n",
    "        patternA_list.append(tupl)\n",
    "\n",
    "print(connection) # dependency matrix"
   ]
  },
  {
   "cell_type": "code",
   "execution_count": 184,
   "metadata": {},
   "outputs": [],
   "source": [
    "def calculate_dependency(x,y):\n",
    "    return (connection[x][y] - connection[y][x])/(connection[x][y] + connection[y][x] + 1)"
   ]
  },
  {
   "cell_type": "markdown",
   "metadata": {},
   "source": [
    "3) Creating dependency matrix"
   ]
  },
  {
   "cell_type": "code",
   "execution_count": 185,
   "metadata": {},
   "outputs": [
    {
     "name": "stdout",
     "output_type": "stream",
     "text": [
      "[[0.0, 0.9900990099009901, 0.0, 0.0, 0.0, 0.0, 0.0, 0.0, 0.0], [-0.9900990099009901, 0.0, 0.6211180124223602, 0.0, 0.0, 0.0, 0.0, 0.0, 0.0], [0.0, -0.6211180124223602, 0.0, 0.9827586206896551, 0.9772727272727273, 0.0, 0.0, 0.0, 0.0], [0.0, 0.0, -0.9827586206896551, 0.0, 0.0, 0.9827586206896551, 0.0, 0.0, 0.0], [0.0, 0.0, -0.9772727272727273, 0.0, 0.0, 0.9772727272727273, 0.0, 0.0, 0.0], [0.0, 0.0, 0.0, -0.9827586206896551, -0.9772727272727273, 0.0, 0.9827586206896551, 0.9772727272727273, 0.0], [0.0, 0.0, 0.0, 0.0, 0.0, -0.9827586206896551, 0.0, 0.0, 0.9827586206896551], [0.0, 0.0, 0.0, 0.0, 0.0, -0.9772727272727273, 0.0, 0.0, 0.9772727272727273], [0.0, 0.0, 0.0, 0.0, 0.0, 0.0, -0.9827586206896551, -0.9772727272727273, 0.0]]\n"
     ]
    }
   ],
   "source": [
    "dependency_matrix = [[0 for x in range(max_task+1)] for x in range(max_task+1)]  \n",
    "\n",
    "for i in range(len(connection)):\n",
    "    for j in range(len(connection)):\n",
    "        dependency_matrix[i][j] = calculate_dependency(i,j)\n",
    "\n",
    "print(dependency_matrix)"
   ]
  },
  {
   "cell_type": "markdown",
   "metadata": {},
   "source": [
    "* Parameters"
   ]
  },
  {
   "cell_type": "code",
   "execution_count": 398,
   "metadata": {},
   "outputs": [
    {
     "data": {
      "application/vnd.jupyter.widget-view+json": {
       "model_id": "6153d203c4124256a7e911db3c0dd334",
       "version_major": 2,
       "version_minor": 0
      },
      "text/plain": [
       "IntSlider(value=0, description='Dependency:')"
      ]
     },
     "metadata": {},
     "output_type": "display_data"
    },
    {
     "data": {
      "application/vnd.jupyter.widget-view+json": {
       "model_id": "2e746691cd644306af0879009d170bed",
       "version_major": 2,
       "version_minor": 0
      },
      "text/plain": [
       "IntSlider(value=0, description='Relative_to_best:')"
      ]
     },
     "metadata": {},
     "output_type": "display_data"
    },
    {
     "data": {
      "application/vnd.jupyter.widget-view+json": {
       "model_id": "cddd559dc35c49659c9ab37f9bfbdec6",
       "version_major": 2,
       "version_minor": 0
      },
      "text/plain": [
       "IntSlider(value=0, description='One_loop:')"
      ]
     },
     "metadata": {},
     "output_type": "display_data"
    },
    {
     "data": {
      "application/vnd.jupyter.widget-view+json": {
       "model_id": "7209ffcda6f04900825e5680b3cf5dce",
       "version_major": 2,
       "version_minor": 0
      },
      "text/plain": [
       "IntSlider(value=0, description='Two_loop:')"
      ]
     },
     "metadata": {},
     "output_type": "display_data"
    },
    {
     "data": {
      "application/vnd.jupyter.widget-view+json": {
       "model_id": "70c2eb7403534a2cbe8d3917d8919c75",
       "version_major": 2,
       "version_minor": 0
      },
      "text/plain": [
       "IntSlider(value=0, description='Long_loop:')"
      ]
     },
     "metadata": {},
     "output_type": "display_data"
    },
    {
     "data": {
      "application/vnd.jupyter.widget-view+json": {
       "model_id": "893361d4d3c74ad3bb3e7d27089530f7",
       "version_major": 2,
       "version_minor": 0
      },
      "text/plain": [
       "Checkbox(value=False, description='all_task_connected')"
      ]
     },
     "metadata": {},
     "output_type": "display_data"
    },
    {
     "data": {
      "application/vnd.jupyter.widget-view+json": {
       "model_id": "93a82ea4bd3b4d9287fb8b7f112215e5",
       "version_major": 2,
       "version_minor": 0
      },
      "text/plain": [
       "Checkbox(value=False, description='long_distance_dependency')"
      ]
     },
     "metadata": {},
     "output_type": "display_data"
    },
    {
     "data": {
      "application/vnd.jupyter.widget-view+json": {
       "model_id": "cd3a8c2f50934608b7195bcf39ed1809",
       "version_major": 2,
       "version_minor": 0
      },
      "text/plain": [
       "Checkbox(value=False, description='ignore_two_loop')"
      ]
     },
     "metadata": {},
     "output_type": "display_data"
    }
   ],
   "source": [
    "from ipywidgets.widgets import Label, Layout, Button, interact, interactive, IntSlider, Checkbox, VBox\n",
    "from IPython.display import display\n",
    "import numpy as np\n",
    "\n",
    "dependency = IntSlider(description='Dependency:')\n",
    "relative_to_best = IntSlider(description='Relative_to_best:')\n",
    "length_one_loop = IntSlider(description='One_loop:')\n",
    "length_two_loop = IntSlider(description='Two_loop:')\n",
    "long_distance = IntSlider(description='Long_loop:')\n",
    "\n",
    "all_task_connected = Checkbox(description='all_task_connected')\n",
    "long_distance_dependency = Checkbox(description='long_distance_dependency')\n",
    "ignore_two_loop = Checkbox(description='ignore_two_loop')"
   ]
  },
  {
   "cell_type": "code",
   "execution_count": 410,
   "metadata": {},
   "outputs": [
    {
     "data": {
      "application/vnd.jupyter.widget-view+json": {
       "model_id": "074383fe97ad4ae4a1ae5933b2702d1d",
       "version_major": 2,
       "version_minor": 0
      },
      "text/plain": [
       "VBox(children=(IntSlider(value=0, description='Dependency:'), IntSlider(value=0, description='Relative_to_best…"
      ]
     },
     "metadata": {},
     "output_type": "display_data"
    },
    {
     "data": {
      "application/vnd.jupyter.widget-view+json": {
       "model_id": "80633e08f15949edb670515e00c2b649",
       "version_major": 2,
       "version_minor": 0
      },
      "text/plain": [
       "Accordion(children=(Checkbox(value=False, description='all_task_connected'), Checkbox(value=False, description…"
      ]
     },
     "metadata": {},
     "output_type": "display_data"
    }
   ],
   "source": [
    "box = VBox(children=(dependency, relative_to_best, length_one_loop, length_two_loop, long_distance), layout=Layout(border='solid 2px gray', width='500px'))\n",
    "display(box)\n",
    "\n",
    "box2 = VBox(children=(all_task_connected, long_distance_dependency, ignore_two_loop), layout=Layout(border='solid 2px gray', width='500px'))\n",
    "display(box2)"
   ]
  },
  {
   "cell_type": "code",
   "execution_count": 391,
   "metadata": {},
   "outputs": [],
   "source": [
    "dependency = dependency.value/100 #done\n",
    "relative_to_best = relative_to_best.value/100 #done\n",
    "length_one_loop = length_one_loop.value/100 #done\n",
    "length_two_loop = length_two_loop.value/100 #done\n",
    "long_distance = long_distance.value/100 #done\n",
    "\n",
    "all_task_connected = all_task_connected.value #done\n",
    "long_distance_dependency = long_distance_dependency.value #done\n",
    "ignore_two_loop = ignore_two_loop.value #done"
   ]
  },
  {
   "cell_type": "markdown",
   "metadata": {},
   "source": [
    "* dependency, all_task_connected parameters"
   ]
  },
  {
   "cell_type": "code",
   "execution_count": 187,
   "metadata": {},
   "outputs": [
    {
     "name": "stdout",
     "output_type": "stream",
     "text": [
      "[(0, 1), (2, 3), (2, 4), (3, 5), (4, 5), (5, 6), (5, 7), (6, 8), (7, 8)]\n",
      "[[0, 0.9900990099009901, 0, 0, 0, 0, 0, 0, 0], [0, 0, 0, 0, 0, 0, 0, 0, 0], [0, 0, 0, 0.9827586206896551, 0.9772727272727273, 0, 0, 0, 0], [0, 0, 0, 0, 0, 0.9827586206896551, 0, 0, 0], [0, 0, 0, 0, 0, 0.9772727272727273, 0, 0, 0], [0, 0, 0, 0, 0, 0, 0.9827586206896551, 0.9772727272727273, 0], [0, 0, 0, 0, 0, 0, 0, 0, 0.9827586206896551], [0, 0, 0, 0, 0, 0, 0, 0, 0.9772727272727273], [0, 0, 0, 0, 0, 0, 0, 0, 0]]\n"
     ]
    }
   ],
   "source": [
    "dependency_list = []\n",
    "dependency_matrix1 = [[0 for x in range(max_task+1)] for x in range(max_task+1)]  \n",
    "\n",
    "for i in range(len(connection)):\n",
    "    for j in range(len(connection)):\n",
    "        if(all_task_connected != 1):\n",
    "            if(dependency_matrix[i][j] >= dependency):\n",
    "                tupl = (i,j)\n",
    "                dependency_list.append(tupl)\n",
    "                dependency_matrix1[i][j] = dependency_matrix[i][j]\n",
    "        else:\n",
    "            if(dependency_matrix[i][j] > 0):\n",
    "                tupl = (i,j)\n",
    "                dependency_list.append(tupl)\n",
    "                dependency_matrix1[i][j] = dependency_matrix[i][j]\n",
    "\n",
    "print(dependency_list)\n",
    "print(dependency_matrix1)"
   ]
  },
  {
   "cell_type": "markdown",
   "metadata": {},
   "source": [
    "* relative_to_best parameter //TODO: moze trzeba tez takie zrobic dla kolumn, czyli dla relacji b,c=>d"
   ]
  },
  {
   "cell_type": "code",
   "execution_count": 188,
   "metadata": {},
   "outputs": [
    {
     "name": "stdout",
     "output_type": "stream",
     "text": [
      "[(0, 1), (2, 3), (3, 5), (4, 5), (5, 6), (6, 8), (7, 8)]\n",
      "[[0, 0.9900990099009901, 0, 0, 0, 0, 0, 0, 0], [0, 0, 0, 0, 0, 0, 0, 0, 0], [0, 0, 0, 0.9827586206896551, 0, 0, 0, 0, 0], [0, 0, 0, 0, 0, 0.9827586206896551, 0, 0, 0], [0, 0, 0, 0, 0, 0.9772727272727273, 0, 0, 0], [0, 0, 0, 0, 0, 0, 0.9827586206896551, 0, 0], [0, 0, 0, 0, 0, 0, 0, 0, 0.9827586206896551], [0, 0, 0, 0, 0, 0, 0, 0, 0.9772727272727273], [0, 0, 0, 0, 0, 0, 0, 0, 0]]\n"
     ]
    }
   ],
   "source": [
    "for row in dependency_matrix1:\n",
    "    maxi = row.index(max(row))\n",
    "    threshold = row[maxi]*(1-relative_to_best)\n",
    "    for elem in row:\n",
    "        if(elem < threshold):\n",
    "            x = dependency_matrix1.index(row)\n",
    "            y = row.index(elem)\n",
    "            dependency_matrix1[x][y] = 0\n",
    "            tupl_tmp = (x, y)\n",
    "            if tupl_tmp in dependency_list:\n",
    "                dependency_list.remove(tupl_tmp)\n",
    "\n",
    "print(dependency_list)\n",
    "print(dependency_matrix1)"
   ]
  },
  {
   "cell_type": "markdown",
   "metadata": {},
   "source": [
    "4) Short loops detection"
   ]
  },
  {
   "cell_type": "markdown",
   "metadata": {},
   "source": [
    "* length_one_loop parameter"
   ]
  },
  {
   "cell_type": "code",
   "execution_count": 189,
   "metadata": {},
   "outputs": [],
   "source": [
    "def calculate_shortloop(x,y):\n",
    "    return connection[x][y]/(connection[x][y] + 1)"
   ]
  },
  {
   "cell_type": "code",
   "execution_count": 190,
   "metadata": {},
   "outputs": [
    {
     "name": "stdout",
     "output_type": "stream",
     "text": [
      "[(0, 1), (2, 3), (3, 5), (4, 5), (5, 6), (6, 8), (7, 8), (0, 0)]\n",
      "[[0.9666666666666667, 0, 0, 0, 0, 0, 0, 0, 0], [0, 0, 0, 0, 0, 0, 0, 0, 0], [0, 0, 0, 0, 0, 0, 0, 0, 0], [0, 0, 0, 0, 0, 0, 0, 0, 0], [0, 0, 0, 0, 0, 0, 0, 0, 0], [0, 0, 0, 0, 0, 0, 0, 0, 0], [0, 0, 0, 0, 0, 0, 0, 0, 0], [0, 0, 0, 0, 0, 0, 0, 0, 0], [0, 0, 0, 0, 0, 0, 0, 0, 0]]\n"
     ]
    }
   ],
   "source": [
    "shortloop_matrix = [[0 for x in range(max_task+1)] for x in range(max_task+1)]  \n",
    "\n",
    "for i in range(len(connection)):\n",
    "    if(connection[i][i] != 0):\n",
    "        var = calculate_shortloop(i,i)\n",
    "        shortloop_matrix[i][i] = var\n",
    "        if(var >= length_one_loop):\n",
    "            tupl = (i,i)\n",
    "            dependency_list.append(tupl)\n",
    "    \n",
    "print(dependency_list)\n",
    "print(shortloop_matrix)"
   ]
  },
  {
   "cell_type": "markdown",
   "metadata": {},
   "source": [
    "* length_two_loop parameter"
   ]
  },
  {
   "cell_type": "code",
   "execution_count": 192,
   "metadata": {},
   "outputs": [
    {
     "name": "stdout",
     "output_type": "stream",
     "text": [
      "[[5, 0, 0, 0, 0, 0, 0, 0, 0], [0, 0, 30, 0, 0, 0, 0, 0, 0], [0, 30, 0, 0, 0, 0, 0, 0, 0], [0, 0, 0, 0, 0, 0, 0, 0, 0], [0, 0, 0, 0, 0, 0, 0, 0, 0], [0, 0, 0, 0, 0, 0, 0, 0, 0], [0, 0, 0, 0, 0, 0, 0, 0, 0], [0, 0, 0, 0, 0, 0, 0, 0, 0], [0, 0, 0, 0, 0, 0, 0, 0, 0]]\n"
     ]
    }
   ],
   "source": [
    "twoloop = [[0 for x in range(max_task+1)] for x in range(max_task+1)]\n",
    "j = -1\n",
    "\n",
    "for row in log_tab:\n",
    "    j = j + 1\n",
    "    for i in range(len(row)-2):\n",
    "        first = row[i]\n",
    "        second = row[i+1]\n",
    "        third = row[i+2]\n",
    "        if(first == third):\n",
    "            twoloop[first][second] = twoloop[first][second] + freq[j]\n",
    "            \n",
    "print(twoloop)"
   ]
  },
  {
   "cell_type": "code",
   "execution_count": 193,
   "metadata": {},
   "outputs": [],
   "source": [
    "def calculate_twoloop(x,y):\n",
    "    return (twoloop[x][y]+twoloop[y][x])/(twoloop[x][y]+twoloop[y][x] + 1)"
   ]
  },
  {
   "cell_type": "code",
   "execution_count": 241,
   "metadata": {},
   "outputs": [
    {
     "name": "stdout",
     "output_type": "stream",
     "text": [
      "[[0.9090909090909091, 0.0, 0.0, 0.0, 0.0, 0.0, 0.0, 0.0, 0.0], [0.0, 0.0, 0.9836065573770492, 0.0, 0.0, 0.0, 0.0, 0.0, 0.0], [0.0, 0.9836065573770492, 0.0, 0.0, 0.0, 0.0, 0.0, 0.0, 0.0], [0.0, 0.0, 0.0, 0.0, 0.0, 0.0, 0.0, 0.0, 0.0], [0.0, 0.0, 0.0, 0.0, 0.0, 0.0, 0.0, 0.0, 0.0], [0.0, 0.0, 0.0, 0.0, 0.0, 0.0, 0.0, 0.0, 0.0], [0.0, 0.0, 0.0, 0.0, 0.0, 0.0, 0.0, 0.0, 0.0], [0.0, 0.0, 0.0, 0.0, 0.0, 0.0, 0.0, 0.0, 0.0], [0.0, 0.0, 0.0, 0.0, 0.0, 0.0, 0.0, 0.0, 0.0]]\n",
      "[(1, 2), (2, 1)]\n"
     ]
    }
   ],
   "source": [
    "loop_list = []\n",
    "twoloop_matrix = [[0 for x in range(max_task+1)] for x in range(max_task+1)]\n",
    "\n",
    "for i in range(len(twoloop_matrix)):\n",
    "    for j in range(len(twoloop_matrix)):\n",
    "        var = calculate_twoloop(i,j)\n",
    "        twoloop_matrix[i][j] = var\n",
    "        if (ignore_two_loop == 0 and var >= length_two_loop and i!=j):\n",
    "            tupl = (i,j)\n",
    "            loop_list.append(tupl)\n",
    "\n",
    "print(twoloop_matrix)\n",
    "print(loop_list)"
   ]
  },
  {
   "cell_type": "markdown",
   "metadata": {},
   "source": [
    "5) Long loops detection"
   ]
  },
  {
   "cell_type": "markdown",
   "metadata": {},
   "source": [
    "* removed duplicates"
   ]
  },
  {
   "cell_type": "code",
   "execution_count": 246,
   "metadata": {},
   "outputs": [
    {
     "name": "stdout",
     "output_type": "stream",
     "text": [
      "[[0, 1, 2, 3, 5, 6, 8], [0, 1, 2, 4, 5, 7, 8], [0, 1, 2, 1, 2, 3, 5, 6, 8], [0, 1, 2, 4, 5, 7, 8], [0, 1, 2, 3, 5, 6, 8], [0, 1, 2, 1, 2, 4, 5, 7, 8], [0, 1, 2, 1, 2, 1, 2, 4, 5, 7, 8], [0, 1, 2, 1, 2, 1, 2, 3, 5, 6, 8], [0, 1, 2, 1, 2, 4, 5, 7, 8], [0, 1, 2, 1, 2, 3, 5, 6, 8], [0, 1, 2, 1, 2, 1, 2, 1, 2, 3, 5, 6, 8], [0, 1, 2, 1, 2, 1, 2, 4, 5, 7, 8], [0, 1, 2, 4, 5, 7, 8], [0, 1, 2, 1, 2, 3, 5, 6, 8], [0, 1, 2, 3, 5, 6, 8], [0, 1, 2, 4, 5, 7, 8]]\n"
     ]
    }
   ],
   "source": [
    "longloop = []\n",
    "\n",
    "for row in log_tab: \n",
    "    newlog_tab = []\n",
    "    prev = row[0]\n",
    "    newlog_tab.append(prev) \n",
    "    for x in row:\n",
    "        if x != prev: \n",
    "            newlog_tab.append(x) \n",
    "            prev = x\n",
    "    longloop.append(newlog_tab)\n",
    "\n",
    "print(longloop)"
   ]
  },
  {
   "cell_type": "markdown",
   "metadata": {},
   "source": [
    "* create matrix of connections"
   ]
  },
  {
   "cell_type": "code",
   "execution_count": 247,
   "metadata": {},
   "outputs": [
    {
     "name": "stdout",
     "output_type": "stream",
     "text": [
      "[[0, 130, 130, 57, 43, 100, 57, 43, 100], [0, 0, 168, 76, 54, 130, 76, 54, 130], [0, 38, 0, 76, 54, 130, 76, 54, 130], [0, 0, 0, 0, 0, 57, 57, 0, 57], [0, 0, 0, 0, 0, 43, 0, 43, 43], [0, 0, 0, 0, 0, 0, 57, 43, 100], [0, 0, 0, 0, 0, 0, 0, 0, 57], [0, 0, 0, 0, 0, 0, 0, 0, 43], [0, 0, 0, 0, 0, 0, 0, 0, 0]]\n"
     ]
    }
   ],
   "source": [
    "longloop1 = [[0 for x in range(max_task+1)] for x in range(max_task+1)]\n",
    "\n",
    "k = -1\n",
    "for row in longloop:\n",
    "    k = k + 1\n",
    "    i = 0\n",
    "    for col in row:\n",
    "        i = i + 1\n",
    "        for j in range(i,len(row)):\n",
    "            if(col != row[j]):\n",
    "                longloop1[col][row[j]] = longloop1[col][row[j]] + freq[k]\n",
    "\n",
    "print(longloop1)"
   ]
  },
  {
   "cell_type": "markdown",
   "metadata": {},
   "source": [
    "* creating vec of counted elems"
   ]
  },
  {
   "cell_type": "code",
   "execution_count": 250,
   "metadata": {},
   "outputs": [
    {
     "name": "stdout",
     "output_type": "stream",
     "text": [
      "[129, 130, 130, 57, 43, 100, 57, 43, 100]\n"
     ]
    }
   ],
   "source": [
    "counted_vec = []\n",
    "\n",
    "for elem in range(max_task+1):\n",
    "    counter = 0\n",
    "    for row in log_tab:\n",
    "        for col in row:\n",
    "            if(col == elem):\n",
    "                counter = counter + freq[log_tab.index(row)]\n",
    "    counted_vec.append(counter)\n",
    "    \n",
    "print(counted_vec)"
   ]
  },
  {
   "cell_type": "code",
   "execution_count": 251,
   "metadata": {},
   "outputs": [],
   "source": [
    "def calculate_longloop(x,y):\n",
    "    return (longloop1[x][y])/(counted_vec[x] + 1)"
   ]
  },
  {
   "cell_type": "markdown",
   "metadata": {},
   "source": [
    "* creating final longloop matrix"
   ]
  },
  {
   "cell_type": "code",
   "execution_count": 257,
   "metadata": {},
   "outputs": [
    {
     "name": "stdout",
     "output_type": "stream",
     "text": [
      "[[0, 1.0, 1.0, 0, 0, 0, 0, 0, 0], [0, 0, 1.282442748091603, 0, 0, 0, 0, 0, 0], [0, 0, 0, 0, 0, 0, 0, 0, 0], [0, 0, 0, 0, 0, 0, 0, 0, 0], [0, 0, 0, 0, 0, 0, 0, 0, 0], [0, 0, 0, 0, 0, 0, 0, 0, 0], [0, 0, 0, 0, 0, 0, 0, 0, 0], [0, 0, 0, 0, 0, 0, 0, 0, 0], [0, 0, 0, 0, 0, 0, 0, 0, 0]]\n"
     ]
    }
   ],
   "source": [
    "longloop_matrix = [[0 for x in range(max_task+1)] for x in range(max_task+1)]\n",
    "\n",
    "for i in range(len(longloop1)):\n",
    "    for j in range(len(longloop1)):\n",
    "        var = calculate_longloop(i,j)\n",
    "        if(var >= long_distance and long_distance_dependency == 0):\n",
    "            longloop_matrix[i][j] = var\n",
    "\n",
    "print(longloop_matrix)"
   ]
  },
  {
   "cell_type": "markdown",
   "metadata": {},
   "source": [
    "6) Final data"
   ]
  },
  {
   "cell_type": "code",
   "execution_count": 260,
   "metadata": {},
   "outputs": [
    {
     "name": "stdout",
     "output_type": "stream",
     "text": [
      "[(0, 1), (2, 3), (3, 5), (4, 5), (5, 6), (6, 8), (7, 8), (0, 0)]\n",
      "[(1, 2), (2, 1)]\n"
     ]
    }
   ],
   "source": [
    "print(dependency_list)\n",
    "print(loop_list)"
   ]
  },
  {
   "cell_type": "markdown",
   "metadata": {},
   "source": [
    "7) Creating a model"
   ]
  },
  {
   "cell_type": "code",
   "execution_count": 290,
   "metadata": {},
   "outputs": [
    {
     "name": "stdout",
     "output_type": "stream",
     "text": [
      "[0]\n"
     ]
    }
   ],
   "source": [
    "Tinput = []\n",
    "\n",
    "for i in range(len(dependency_list)):\n",
    "    if log_tab[i][0] not in Tinput:\n",
    "        Tinput.append(log_tab[i][0])\n",
    "        \n",
    "print(Tinput)"
   ]
  },
  {
   "cell_type": "code",
   "execution_count": 291,
   "metadata": {},
   "outputs": [
    {
     "name": "stdout",
     "output_type": "stream",
     "text": [
      "[8]\n"
     ]
    }
   ],
   "source": [
    "Toutput = []\n",
    "\n",
    "for i in range(len(dependency_list)):\n",
    "    if log_tab[i][len(log_tab[i])-1] not in Toutput:\n",
    "        Toutput.append(log_tab[i][len(log_tab[i])-1])\n",
    "        \n",
    "print(Toutput)"
   ]
  },
  {
   "cell_type": "code",
   "execution_count": 262,
   "metadata": {},
   "outputs": [
    {
     "name": "stdout",
     "output_type": "stream",
     "text": [
      "[[1. 1. 0. 0. 0. 0. 0. 0. 0.]\n",
      " [0. 0. 1. 0. 0. 0. 0. 0. 0.]\n",
      " [0. 2. 0. 1. 0. 0. 0. 0. 0.]\n",
      " [0. 0. 0. 0. 0. 1. 0. 0. 0.]\n",
      " [0. 0. 0. 0. 0. 1. 0. 0. 0.]\n",
      " [0. 0. 0. 0. 0. 0. 1. 0. 0.]\n",
      " [0. 0. 0. 0. 0. 0. 0. 0. 1.]\n",
      " [0. 0. 0. 0. 0. 0. 0. 0. 1.]\n",
      " [0. 0. 0. 0. 0. 0. 0. 0. 0.]]\n"
     ]
    }
   ],
   "source": [
    "footprint = np.zeros((max_task+1, max_task+1))\n",
    "\n",
    "for i in dependency_list:\n",
    "    x = i[0]\n",
    "    y = i[1]\n",
    "    footprint[x][y] = 1\n",
    "\n",
    "for i in loop_list:\n",
    "    x = i[0]\n",
    "    y = i[1]\n",
    "    footprint[x][y] = footprint[x][y] + 2\n",
    "    \n",
    "footprint[1][2] = 1\n",
    "print(footprint)"
   ]
  },
  {
   "cell_type": "code",
   "execution_count": 269,
   "metadata": {},
   "outputs": [
    {
     "name": "stdout",
     "output_type": "stream",
     "text": [
      "[array([0, 1, 0])]\n"
     ]
    }
   ],
   "source": [
    "patternB_list = []\n",
    "\n",
    "for i in range(len(footprint)):\n",
    "    tab_tmp = []\n",
    "    for j in range(len(footprint)):\n",
    "        if(footprint[i][j] == 1):\n",
    "            tab_tmp.append(j)\n",
    "    if(len(tab_tmp) > 1):\n",
    "        tab_tmp.append(i)\n",
    "        tab_tmp = np.asarray(tab_tmp)\n",
    "        patternB_list.append(tab_tmp)\n",
    "       \n",
    "print(patternB_list)     # last element is a number of row, it should be actually e.g. ([1,2,5], 0)    "
   ]
  },
  {
   "cell_type": "code",
   "execution_count": 270,
   "metadata": {},
   "outputs": [
    {
     "name": "stdout",
     "output_type": "stream",
     "text": [
      "[array([3, 4, 5]), array([6, 7, 8])]\n"
     ]
    }
   ],
   "source": [
    "patternC_list = []\n",
    "\n",
    "for i in range(len(footprint)):\n",
    "    tab_tmp2 = []\n",
    "    for j in range(len(footprint)):\n",
    "        if(footprint[j][i] == 1):\n",
    "            tab_tmp2.append(j)\n",
    "    if(len(tab_tmp2) > 1):\n",
    "        tab_tmp2.append(i)\n",
    "        tab_tmp2 = np.asarray(tab_tmp2)\n",
    "        patternC_list.append(tab_tmp2)\n",
    "       \n",
    "print(patternC_list)     # last element is a number of row, it should be actually e.g. ([0,7], 1)    "
   ]
  },
  {
   "cell_type": "code",
   "execution_count": 272,
   "metadata": {},
   "outputs": [
    {
     "name": "stdout",
     "output_type": "stream",
     "text": [
      "[(2, 3), (3, 5), (4, 5), (5, 6), (6, 8), (7, 8)]\n"
     ]
    }
   ],
   "source": [
    "for i in range(len(patternB_list)):\n",
    "    tupl = (patternB_list[i][0], patternB_list[i][1])\n",
    "    tupl2 = (patternB_list[i][0], patternB_list[i][2])\n",
    "    if tupl in dependency_list:\n",
    "        dependency_list.remove(tupl)\n",
    "    if tupl2 in dependency_list:\n",
    "        dependency_list.remove(tupl2)  \n",
    "\n",
    "print(dependency_list)"
   ]
  },
  {
   "cell_type": "code",
   "execution_count": 273,
   "metadata": {},
   "outputs": [
    {
     "name": "stdout",
     "output_type": "stream",
     "text": [
      "[(2, 3), (5, 6)]\n"
     ]
    }
   ],
   "source": [
    "for i in range(len(patternC_list)):\n",
    "    tupl = (patternC_list[i][0], patternC_list[i][2])\n",
    "    tupl2 = (patternC_list[i][1], patternC_list[i][2])\n",
    "    if tupl in dependency_list:\n",
    "        dependency_list.remove(tupl)\n",
    "    if tupl2 in dependency_list:\n",
    "        dependency_list.remove(tupl2)  \n",
    "\n",
    "print(dependency_list)"
   ]
  },
  {
   "cell_type": "code",
   "execution_count": 274,
   "metadata": {},
   "outputs": [
    {
     "name": "stdout",
     "output_type": "stream",
     "text": [
      "[(2, 3), (5, 6)]\n"
     ]
    }
   ],
   "source": [
    "for i in range(len(footprint)):\n",
    "    for j in range(len(footprint)):\n",
    "        if(footprint[i][j] == 3):\n",
    "            dependency_list.remove((i, j))\n",
    "\n",
    "print(dependency_list)"
   ]
  },
  {
   "cell_type": "code",
   "execution_count": 276,
   "metadata": {},
   "outputs": [
    {
     "name": "stdout",
     "output_type": "stream",
     "text": [
      "[0, 1, 2, 3, 4, 5, 6, 7]\n"
     ]
    }
   ],
   "source": [
    "tab_of_tasks = []\n",
    "\n",
    "for elem in range(max_task):\n",
    "    tab_of_tasks.append(elem)\n",
    "            \n",
    "print(tab_of_tasks)"
   ]
  },
  {
   "cell_type": "code",
   "execution_count": 332,
   "metadata": {},
   "outputs": [
    {
     "name": "stdout",
     "output_type": "stream",
     "text": [
      "[(2, 3), (5, 6), (1, 2), (2, 1), (1, 2), (2, 1)]\n",
      "[array([0, 1, 0])]\n",
      "[array([3, 4, 5]), array([6, 7, 8])]\n"
     ]
    }
   ],
   "source": [
    "dependency_list.extend(loop_list)\n",
    "print(dependency_list)\n",
    "print(patternB_list)\n",
    "print(patternC_list)"
   ]
  },
  {
   "cell_type": "code",
   "execution_count": 335,
   "metadata": {},
   "outputs": [],
   "source": [
    "import bpmn_python.bpmn_diagram_rep as diagram\n",
    "import bpmn_python.bpmn_diagram_layouter as layouter\n",
    "import bpmn_python.bpmn_diagram_visualizer as visualizer\n",
    "import bpmn_python.bpmn_diagram_rep as diagram\n",
    "import graphviz\n",
    " \n",
    "bpmn_graph = diagram.BpmnDiagramGraph()\n",
    "bpmn_graph.create_new_diagram_graph(diagram_name=\"diagram1\")\n",
    "process_id = bpmn_graph.add_process_to_diagram()"
   ]
  },
  {
   "cell_type": "code",
   "execution_count": 336,
   "metadata": {},
   "outputs": [],
   "source": [
    "tab = {}\n",
    "tab_help=[]\n",
    "\n",
    "#beginning\n",
    "[start_id, _] = bpmn_graph.add_start_event_to_diagram(process_id, start_event_name=\"start_event\")\n",
    "if(len(Tinput) > 1):  \n",
    "    [exclusive_gate_id, _] = bpmn_graph.add_exclusive_gateway_to_diagram(process_id, gateway_name=\"X\")\n",
    "    for elem in Tinput:\n",
    "        if elem not in tab_help:\n",
    "            tab[elem] = bpmn_graph.add_task_to_diagram(process_id, task_name=elem)\n",
    "            tab_help.append(elem)\n",
    "    bpmn_graph.add_sequence_flow_to_diagram(process_id, start_id, exclusive_gate_id)\n",
    "    bpmn_graph.add_sequence_flow_to_diagram(process_id, exclusive_gate_id, tab[Tinput[0]][0])\n",
    "    bpmn_graph.add_sequence_flow_to_diagram(process_id, exclusive_gate_id, tab[Tinput[1]][0])\n",
    "else:\n",
    "    tab[Tinput[0]] = bpmn_graph.add_task_to_diagram(process_id, task_name=Tinput[0])\n",
    "    bpmn_graph.add_sequence_flow_to_diagram(process_id, start_id, tab[Tinput[0]][0])\n",
    "    tab_help.append(Tinput[0])\n",
    " \n",
    "# connections a#(b,c)\n",
    "for elem in patternB_list:\n",
    "    exclusive_gate_id = bpmn_graph.add_exclusive_gateway_to_diagram(process_id, gateway_name=\"X\")\n",
    "    for val in elem:\n",
    "        if(val not in tab_help):\n",
    "            tab[val] = bpmn_graph.add_task_to_diagram(process_id, task_name=val)\n",
    "            tab_help.append(val)  \n",
    "    bpmn_graph.add_sequence_flow_to_diagram(process_id, tab[elem[0]][0], exclusive_gate_id[0])\n",
    "    #if(elem[0] == elem[1]):\n",
    "    bpmn_graph.add_sequence_flow_to_diagram(process_id, exclusive_gate_id[0], tab[elem[1]][0])\n",
    "    bpmn_graph.add_sequence_flow_to_diagram(process_id, exclusive_gate_id[0], tab[elem[2]][0])     \n",
    "\n",
    "# connections (b,c)#d\n",
    "for elem in patternC_list:\n",
    "    [exclusive_gate_id, _] = bpmn_graph.add_exclusive_gateway_to_diagram(process_id, gateway_name=\"X\")\n",
    "    for val in elem:\n",
    "        if(val not in tab_help):\n",
    "            tab[val] = bpmn_graph.add_task_to_diagram(process_id, task_name=val)\n",
    "            tab_help.append(val)\n",
    "    bpmn_graph.add_sequence_flow_to_diagram(process_id, tab[elem[0]][0], exclusive_gate_id)\n",
    "    bpmn_graph.add_sequence_flow_to_diagram(process_id, tab[elem[1]][0], exclusive_gate_id)\n",
    "    bpmn_graph.add_sequence_flow_to_diagram(process_id, exclusive_gate_id, tab[elem[2]][0])    \n",
    "\n",
    "# tasks\n",
    "for elem in dependency_list:\n",
    "    if(elem[0] not in tab_help):\n",
    "        tab[elem[0]] = bpmn_graph.add_task_to_diagram(process_id, task_name=elem[0])\n",
    "        tab_help.append(elem[0])\n",
    "    if(elem[1] not in tab_help):\n",
    "        tab[elem[1]] = bpmn_graph.add_task_to_diagram(process_id, task_name=elem[1])\n",
    "        tab_help.append(elem[1])\n",
    "    bpmn_graph.add_sequence_flow_to_diagram(process_id, tab[elem[0]][0], tab[elem[1]][0])     \n",
    "    \n",
    "# end\n",
    "if(len(Toutput) > 1):\n",
    "    [exclusive_gate_id, _] = bpmn_graph.add_exclusive_gateway_to_diagram(process_id, gateway_name=\"X\")\n",
    "    for elem in Toutput:\n",
    "        if elem not in tab_help: \n",
    "            tab[elem] = bpmn_graph.add_task_to_diagram(process_id, task_name=elem)\n",
    "            tab_help.append(elem)\n",
    "    bpmn_graph.add_sequence_flow_to_diagram(process_id, tab[Toutput[0]][0], exclusive_gate_id)\n",
    "    bpmn_graph.add_sequence_flow_to_diagram(process_id, tab[Toutput[1]][0], exclusive_gate_id)\n",
    "    [end_id, _] = bpmn_graph.add_end_event_to_diagram(process_id, end_event_name=\"end_event\")\n",
    "    bpmn_graph.add_sequence_flow_to_diagram(process_id, exclusive_gate_id, end_id)\n",
    "else:\n",
    "    if Toutput[0] not in tab_help:\n",
    "        tab[Toutput[0]] = bpmn_graph.add_task_to_diagram(process_id, task_name=Toutput[0])\n",
    "    [end_id, _] = bpmn_graph.add_end_event_to_diagram(process_id, end_event_name=\"end_event\")\n",
    "    bpmn_graph.add_sequence_flow_to_diagram(process_id, tab[Toutput[0]][0], end_id)       \n",
    "    \n",
    "visualizer.bpmn_diagram_to_png(bpmn_graph, file_name = 'model_example')"
   ]
  },
  {
   "cell_type": "code",
   "execution_count": 337,
   "metadata": {},
   "outputs": [],
   "source": [
    "import site"
   ]
  },
  {
   "cell_type": "code",
   "execution_count": 338,
   "metadata": {},
   "outputs": [
    {
     "name": "stdout",
     "output_type": "stream",
     "text": [
      "['C:\\\\Users\\\\Lenovo\\\\Anaconda3', 'C:\\\\Users\\\\Lenovo\\\\Anaconda3\\\\lib\\\\site-packages']\n"
     ]
    }
   ],
   "source": [
    "print(site.getsitepackages())"
   ]
  },
  {
   "cell_type": "code",
   "execution_count": 339,
   "metadata": {},
   "outputs": [],
   "source": [
    "import PyQt5"
   ]
  },
  {
   "cell_type": "code",
   "execution_count": 342,
   "metadata": {},
   "outputs": [],
   "source": [
    "import os\n",
    "import sys"
   ]
  },
  {
   "cell_type": "code",
   "execution_count": 343,
   "metadata": {},
   "outputs": [
    {
     "name": "stdout",
     "output_type": "stream",
     "text": [
      "C:\\Users\\Lenovo\\Anaconda3\n"
     ]
    }
   ],
   "source": [
    "print(os.path.dirname(sys.executable))"
   ]
  },
  {
   "cell_type": "code",
   "execution_count": 379,
   "metadata": {},
   "outputs": [],
   "source": []
  },
  {
   "cell_type": "code",
   "execution_count": 365,
   "metadata": {},
   "outputs": [
    {
     "data": {
      "application/vnd.jupyter.widget-view+json": {
       "model_id": "667f300eb3cf48198a6e9fe48d583692",
       "version_major": 2,
       "version_minor": 0
      },
      "text/plain": [
       "Button(description='Stop', style=ButtonStyle())"
      ]
     },
     "metadata": {},
     "output_type": "display_data"
    }
   ],
   "source": [
    "stop = Button(description = \"Stop\")\n",
    "flag = True\n",
    "\n",
    "def stop_click(b):\n",
    "    print(\"Ok\")\n",
    "\n",
    "stop.on_click(stop_click)\n",
    "\n",
    "stop"
   ]
  },
  {
   "cell_type": "code",
   "execution_count": 378,
   "metadata": {},
   "outputs": [
    {
     "name": "stdout",
     "output_type": "stream",
     "text": [
      "52\n"
     ]
    }
   ],
   "source": [
    "print(w.value)"
   ]
  },
  {
   "cell_type": "code",
   "execution_count": 382,
   "metadata": {},
   "outputs": [
    {
     "data": {
      "application/vnd.jupyter.widget-view+json": {
       "model_id": "e51d05ea6f084d9a8a0a1c06b76866bf",
       "version_major": 2,
       "version_minor": 0
      },
      "text/plain": [
       "Checkbox(value=False, description='Check')"
      ]
     },
     "metadata": {},
     "output_type": "display_data"
    }
   ],
   "source": []
  },
  {
   "cell_type": "code",
   "execution_count": 384,
   "metadata": {},
   "outputs": [
    {
     "name": "stdout",
     "output_type": "stream",
     "text": [
      "True\n"
     ]
    }
   ],
   "source": [
    "print(ch.value)"
   ]
  },
  {
   "cell_type": "code",
   "execution_count": null,
   "metadata": {},
   "outputs": [],
   "source": []
  }
 ],
 "metadata": {
  "kernelspec": {
   "display_name": "Python 3",
   "language": "python",
   "name": "python3"
  },
  "language_info": {
   "codemirror_mode": {
    "name": "ipython",
    "version": 3
   },
   "file_extension": ".py",
   "mimetype": "text/x-python",
   "name": "python",
   "nbconvert_exporter": "python",
   "pygments_lexer": "ipython3",
   "version": "3.7.6"
  }
 },
 "nbformat": 4,
 "nbformat_minor": 4
}
